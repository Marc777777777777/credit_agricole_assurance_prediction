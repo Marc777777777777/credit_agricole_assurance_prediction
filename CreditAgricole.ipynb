{
  "nbformat": 4,
  "nbformat_minor": 0,
  "metadata": {
    "colab": {
      "provenance": [],
      "collapsed_sections": [
        "oPyMAhaoZZNR",
        "hCUjej4TrNow",
        "Zi-vMBcCN_U9",
        "lLxrjYcL6knm",
        "2X5i_6a02T1n",
        "vRr44IFBzd4J",
        "gcLkBOZpznN5"
      ],
      "gpuType": "T4"
    },
    "kernelspec": {
      "name": "python3",
      "display_name": "Python 3"
    },
    "language_info": {
      "name": "python"
    },
    "accelerator": "GPU"
  },
  "cells": [
    {
      "cell_type": "markdown",
      "source": [
        "# Importation des modules et chargement des fichiers"
      ],
      "metadata": {
        "id": "a9CSv__Ct60M"
      }
    },
    {
      "cell_type": "code",
      "execution_count": null,
      "metadata": {
        "id": "FETQtsKkTeR6",
        "colab": {
          "base_uri": "https://localhost:8080/"
        },
        "outputId": "79e133d0-e429-4541-82aa-26ac509760b2"
      },
      "outputs": [
        {
          "output_type": "stream",
          "name": "stdout",
          "text": [
            "\u001b[?25l   \u001b[90m━━━━━━━━━━━━━━━━━━━━━━━━━━━━━━━━━━━━━━━━\u001b[0m \u001b[32m0.0/85.7 kB\u001b[0m \u001b[31m?\u001b[0m eta \u001b[36m-:--:--\u001b[0m\r\u001b[2K   \u001b[90m━━━━━━━━━━━━━━━━━━━━━━━━━━━━━━━━━━━━━━━━\u001b[0m \u001b[32m85.7/85.7 kB\u001b[0m \u001b[31m5.0 MB/s\u001b[0m eta \u001b[36m0:00:00\u001b[0m\n",
            "\u001b[?25h"
          ]
        }
      ],
      "source": [
        "import pandas as pd\n",
        "import numpy as np\n",
        "from sklearn.metrics import mean_squared_error\n",
        "from sklearn.ensemble import RandomForestRegressor, GradientBoostingRegressor\n",
        "from sklearn.preprocessing import LabelEncoder\n",
        "import torch\n",
        "import torch.nn as nn\n",
        "from collections import Counter\n",
        "from torch.utils.data import TensorDataset\n",
        "from torch.utils.data import DataLoader\n",
        "import matplotlib.pyplot as plt\n",
        "from numpy import int8\n",
        "from torch.optim.lr_scheduler import StepLR\n",
        "\n",
        "!pip install category_encoders --quiet"
      ]
    },
    {
      "cell_type": "code",
      "source": [
        "use_cuda = torch.cuda.is_available()\n",
        "device = torch.device(\"cuda\" if use_cuda else \"cpu\")\n",
        "print(device)"
      ],
      "metadata": {
        "id": "rYuVCcegY4z-",
        "colab": {
          "base_uri": "https://localhost:8080/"
        },
        "outputId": "aa255232-eef9-4f75-e5f8-e7e725755191"
      },
      "execution_count": null,
      "outputs": [
        {
          "output_type": "stream",
          "name": "stdout",
          "text": [
            "cuda\n"
          ]
        }
      ]
    },
    {
      "cell_type": "code",
      "source": [
        "# Charger les données\n",
        "print(\"Chargement des données...\")\n",
        "X_train = pd.read_csv(\"train_input.csv\")\n",
        "y_train = pd.read_csv(\"train_output.csv\")\n",
        "X_test = pd.read_csv(\"test_input.csv\")\n",
        "print(\"Données chargées avec succès.\")"
      ],
      "metadata": {
        "colab": {
          "base_uri": "https://localhost:8080/"
        },
        "id": "VnyzedU4Y8JU",
        "outputId": "7d404f38-d5ef-47a5-f953-892790f54f50"
      },
      "execution_count": null,
      "outputs": [
        {
          "output_type": "stream",
          "name": "stdout",
          "text": [
            "Chargement des données...\n"
          ]
        },
        {
          "output_type": "stream",
          "name": "stderr",
          "text": [
            "<ipython-input-3-1dd1e3cb11fb>:3: DtypeWarning: Columns (16,17,29,30,31,126,128,129,132,133,135,138,371) have mixed types. Specify dtype option on import or set low_memory=False.\n",
            "  X_train = pd.read_csv(\"train_input.csv\")\n",
            "<ipython-input-3-1dd1e3cb11fb>:5: DtypeWarning: Columns (16,17,29,30,31,126,128,129,132,133,135,138,371) have mixed types. Specify dtype option on import or set low_memory=False.\n",
            "  X_test = pd.read_csv(\"test_input.csv\")\n"
          ]
        },
        {
          "output_type": "stream",
          "name": "stdout",
          "text": [
            "Données chargées avec succès.\n"
          ]
        }
      ]
    },
    {
      "cell_type": "markdown",
      "source": [
        "#Info Data"
      ],
      "metadata": {
        "id": "3WDsRb2nYvNi"
      }
    },
    {
      "cell_type": "code",
      "source": [
        "print(\"Dimensions des données d'entraînement :\")\n",
        "print(X_train.shape)\n",
        "print(\"Dimensions des données de sortie :\")\n",
        "print(y_train.shape)\n",
        "print(\"Dimensions des données de test :\")\n",
        "print(X_test.shape)"
      ],
      "metadata": {
        "colab": {
          "base_uri": "https://localhost:8080/"
        },
        "id": "M5eR_KkQZX2H",
        "outputId": "0c57b899-0f8b-4152-9df0-1b67432f5031"
      },
      "execution_count": null,
      "outputs": [
        {
          "output_type": "stream",
          "name": "stdout",
          "text": [
            "Dimensions des données d'entraînement :\n",
            "(383610, 374)\n",
            "Dimensions des données de sortie :\n",
            "(383610, 5)\n",
            "Dimensions des données de test :\n",
            "(95852, 374)\n"
          ]
        }
      ]
    },
    {
      "cell_type": "code",
      "source": [
        "import seaborn as sns\n",
        "\n",
        "random_indices = np.random.choice(X_train.shape[0], size=1000, replace=False)\n",
        "random_cols = np.random.choice(X_train.shape[1], size=25, replace=False)\n",
        "\n",
        "fig, axes = plt.subplots(5,5, figsize=(15, 15))\n",
        "ax = axes.flatten()\n",
        "\n",
        "for i, col in enumerate(X_train.columns[random_cols]):\n",
        "    sns.histplot(X_train.loc[random_indices, col], ax=ax[i]) # histogram call\n",
        "    ax[i].set_title(col)\n",
        "    # remove scientific notation for both axes\n",
        "    # ax[i].ticklabel_format(style='plain', axis='both')\n",
        "\n",
        "fig.tight_layout() # change padding\n",
        "plt.savefig('histograms.png')\n",
        "plt.show()"
      ],
      "metadata": {
        "colab": {
          "base_uri": "https://localhost:8080/",
          "height": 1000
        },
        "id": "pQ3AIQHwO37B",
        "outputId": "a3f1297c-aca9-4d74-f4b4-b80ba2125c22"
      },
      "execution_count": null,
      "outputs": [
        {
          "output_type": "display_data",
          "data": {
            "text/plain": [
              "<Figure size 1500x1500 with 25 Axes>"
            ],
            "image/png": "[encoded data removed]"
          },
          "metadata": {}
        }
      ]
    },
    {
      "cell_type": "markdown",
      "source": [
        "# Preprocessing"
      ],
      "metadata": {
        "id": "F7-9mBNiYzYY"
      }
    },
    {
      "cell_type": "markdown",
      "source": [
        "## Remove ID and assurance columns"
      ],
      "metadata": {
        "id": "mJBiO2Rqr31W"
      }
    },
    {
      "cell_type": "code",
      "source": [
        "#remove col id and annee assurance\n",
        "X_train_enc = X_train.drop(['ID', 'ANNEE_ASSURANCE'], axis=1)\n",
        "X_test_enc = X_test.drop(['ID', 'ANNEE_ASSURANCE'], axis=1)\n",
        "print(\"X train shape:\",X_train_enc.shape)\n",
        "print(\"X test shape:\",X_test_enc.shape)\n",
        "y_train_enc = y_train.drop(['ID'], axis=1)\n",
        "print(\"y train shape:\",y_train_enc.shape)"
      ],
      "metadata": {
        "colab": {
          "base_uri": "https://localhost:8080/"
        },
        "id": "22QW2cDxSIsT",
        "outputId": "68e82a6e-56a5-4b81-d7bc-a80eb9f8d9af"
      },
      "execution_count": null,
      "outputs": [
        {
          "output_type": "stream",
          "name": "stdout",
          "text": [
            "X train shape: (383610, 372)\n",
            "X test shape: (95852, 372)\n",
            "y train shape: (383610, 4)\n"
          ]
        }
      ]
    },
    {
      "cell_type": "code",
      "source": [
        "import seaborn as sns\n",
        "\n",
        "#X_train_enc['FRCH1'] = X_train_enc['FRCH1'].apply(\n",
        "#    lambda x: f\"num_{x}\" if isinstance(x, (int, float)) else f\"str_{x}\"\n",
        "#)\n",
        "#X_train_enc['FRCH2'] = X_train_enc['FRCH2'].apply(\n",
        "#    lambda x: f\"num_{x}\" if isinstance(x, (int, float)) else f\"str_{x}\"\n",
        "#)\n",
        "\n",
        "\n",
        "fig, ax = plt.subplots(1,figsize=(10, 4))\n",
        "\n",
        "sns.countplot(x = X_train_enc.loc[:, 'FRCH1'], ax=ax) # histogram call\n",
        "ax.set_title(\"FRCH1\")\n",
        "# remove scientific notation for both axes\n",
        "# ax[i].ticklabel_format(style='plain', axis='both')\n",
        "\n",
        "plt.title('Count Plot of Mixed Data')\n",
        "plt.show()"
      ],
      "metadata": {
        "colab": {
          "base_uri": "https://localhost:8080/",
          "height": 410
        },
        "id": "N-czOAEkfzUe",
        "outputId": "4d719af4-6402-4093-aba8-6edf3562971c"
      },
      "execution_count": null,
      "outputs": [
        {
          "output_type": "display_data",
          "data": {
            "text/plain": [
              "<Figure size 1000x400 with 1 Axes>"
            ],
            "image/png": "[encoded data removed]"
          },
          "metadata": {}
        }
      ]
    },
    {
      "cell_type": "markdown",
      "source": [
        "## Create two columns for mixed data"
      ],
      "metadata": {
        "id": "ZFcSit9Gr-63"
      }
    },
    {
      "cell_type": "code",
      "source": [
        "#Make \"1\" become 1\n",
        "print(f\"Before transformation: {X_train_enc.loc[:, 'FRCH1'].value_counts()}\")\n",
        "X_train_enc.loc[:, 'FRCH1'] = X_train_enc.loc[:, 'FRCH1'].apply(lambda x: int(x) if type(x) == str and x.isdigit() else x)\n",
        "X_test_enc.loc[:, 'FRCH1'] = X_test_enc.loc[:, 'FRCH1'].apply(lambda x: int(x) if type(x) == str and x.isdigit() else x)\n",
        "print(f\"After transformation: {X_train_enc.loc[:, 'FRCH1'].value_counts()}\")\n",
        "\n",
        "print(f\"Before transformation: {X_train_enc.loc[:, 'FRCH2'].value_counts()}\")\n",
        "X_train_enc.loc[:, 'FRCH2'] = X_train_enc.loc[:, 'FRCH2'].apply(lambda x: int(x) if type(x) == str and x.isdigit() else x)\n",
        "X_test_enc.loc[:, 'FRCH2'] = X_test_enc.loc[:, 'FRCH2'].apply(lambda x: int(x) if type(x) == str and x.isdigit() else x)\n",
        "print(f\"After transformation: {X_train_enc.loc[:, 'FRCH2'].value_counts()}\")"
      ],
      "metadata": {
        "colab": {
          "base_uri": "https://localhost:8080/"
        },
        "id": "adLOAPRdywyf",
        "outputId": "7880c41c-0b5d-4c31-b654-a96a4d69ca34"
      },
      "execution_count": null,
      "outputs": [
        {
          "output_type": "stream",
          "name": "stdout",
          "text": [
            "Before transformation: FRCH1\n",
            "0    169031\n",
            "1    102148\n",
            "0     73268\n",
            "1     24697\n",
            "2      9894\n",
            "3      2185\n",
            "2      1899\n",
            "3       424\n",
            "i        64\n",
            "Name: count, dtype: int64\n",
            "After transformation: FRCH1\n",
            "0    242299\n",
            "1    126845\n",
            "2     11793\n",
            "3      2609\n",
            "i        64\n",
            "Name: count, dtype: int64\n",
            "Before transformation: FRCH2\n",
            "1    161789\n",
            "2    123820\n",
            "A     55578\n",
            "3     14969\n",
            "4       651\n",
            "5       230\n",
            "Name: count, dtype: int64\n",
            "After transformation: FRCH2\n",
            "1    161789\n",
            "2    123820\n",
            "A     55578\n",
            "3     14969\n",
            "4       651\n",
            "5       230\n",
            "Name: count, dtype: int64\n"
          ]
        }
      ]
    },
    {
      "cell_type": "markdown",
      "source": [
        "## Count number of numeric, mixed and string columns"
      ],
      "metadata": {
        "id": "XzSiR3UpsgEL"
      }
    },
    {
      "cell_type": "code",
      "source": [
        "numeric_columns = X_train_enc.select_dtypes(include=['number']).columns\n",
        "print(\"Number of numerical columns: \",len(numeric_columns))\n",
        "\n",
        "mixed_columns = ['FRCH1', 'FRCH2']\n",
        "print(\"Number of columns with mixte values: \",len(mixed_columns))\n",
        "\n",
        "string_columns = [item for item in X_train_enc.columns if (item not in numeric_columns and item not in mixed_columns)]\n",
        "print(\"Number of string columns:\",len(string_columns))"
      ],
      "metadata": {
        "colab": {
          "base_uri": "https://localhost:8080/"
        },
        "id": "LKPy1ilijWe-",
        "outputId": "38a64afd-de80-4324-fe0d-04401430bd0f"
      },
      "execution_count": null,
      "outputs": [
        {
          "output_type": "stream",
          "name": "stdout",
          "text": [
            "Number of numerical columns:  92\n",
            "Number of columns with mixte values:  2\n",
            "Number of string columns: 278\n"
          ]
        }
      ]
    },
    {
      "cell_type": "code",
      "source": [
        "print(\"Nan Numeric:\",X_train_enc[numeric_columns].isna().sum().sum())\n",
        "print(\"Nan String:\",X_train_enc[string_columns].isna().sum().sum())\n",
        "print(\"Nan Mixed:\",X_train_enc[mixed_columns].isna().sum().sum())"
      ],
      "metadata": {
        "colab": {
          "base_uri": "https://localhost:8080/"
        },
        "id": "Wal17iAjL00L",
        "outputId": "93701fb3-067b-4bce-8307-557baf6a3825"
      },
      "execution_count": null,
      "outputs": [
        {
          "output_type": "stream",
          "name": "stdout",
          "text": [
            "Nan Numeric: 1179979\n",
            "Nan String: 42422569\n",
            "Nan Mixed: 26573\n"
          ]
        }
      ]
    },
    {
      "cell_type": "code",
      "source": [
        "print(f\"Percentage of NaN data: {X_train_enc.isna().sum().sum() / (X_train_enc.shape[0] * X_train_enc.shape[1]) * 100:.2f} %\")"
      ],
      "metadata": {
        "colab": {
          "base_uri": "https://localhost:8080/"
        },
        "id": "aufpuf1cpJwz",
        "outputId": "3e83ee4a-0a1f-447e-f205-d8c68cf7e54b"
      },
      "execution_count": null,
      "outputs": [
        {
          "output_type": "stream",
          "name": "stdout",
          "text": [
            "Percentage of NaN data: 30.57 %\n"
          ]
        }
      ]
    },
    {
      "cell_type": "markdown",
      "source": [
        "## Encode categoric columns"
      ],
      "metadata": {
        "id": "yjAzOO4zsmUL"
      }
    },
    {
      "cell_type": "code",
      "source": [
        "from category_encoders import CountEncoder, OrdinalEncoder, OneHotEncoder\n",
        "from sklearn.preprocessing import LabelEncoder\n",
        "import pandas as pd\n",
        "import string\n",
        "import gc\n",
        "import re\n",
        "\n",
        "def str_convert(x):\n",
        "    return str(x).upper()\n",
        "\n",
        "def get_class_order(series):\n",
        "    # print('get_class_order', series)\n",
        "    # Create a list of tuples with (numeric prefix, full label)\n",
        "    label_pairs = [(int(re.findall(r'\\d+', label)[0]), label) for label in series.index]\n",
        "\n",
        "    # Sort the list based on the numeric prefix\n",
        "    sorted_labels = sorted(label_pairs, key=lambda x: x[0])\n",
        "\n",
        "    # Return only the full labels in sorted order\n",
        "    return [label for _, label in sorted_labels]\n",
        "\n",
        "def get_numeric_order(series):\n",
        "    # print('get_numeric_order', series)\n",
        "    # Create a list of tuples with (numeric prefix, full label)\n",
        "    label_pairs = [(int(label[:2]), label) if len(label) > 1 else (int(label), label) for label in series.index]\n",
        "\n",
        "    # Sort the list based on the numeric prefix\n",
        "    sorted_labels = sorted(label_pairs, key=lambda x: x[0])\n",
        "\n",
        "    # Return only the full labels in sorted order\n",
        "    return [label for _, label in sorted_labels]\n",
        "\n",
        "def sort_surface_series(series):\n",
        "    # print('surface_series', series)\n",
        "    # Replace '7000+' with '7500' (placeholder) and convert to int\n",
        "    series = series.rename(lambda x: '7500' if x == '7000+' else x)\n",
        "    series.index = series.index.astype(int)\n",
        "\n",
        "    # Sort the series\n",
        "    return series.index.sort_values().tolist()\n",
        "\n",
        "def check_inequality_pattern(series):\n",
        "    # print('check_inequality_pattern', series)\n",
        "    # Check if classes are in the form \"01. <= 0\" (column NBJRR100_MMAX_A), \"04. >= 25\" (column RRAB_VOR_MM_A), etc.\n",
        "    pattern = r'^\\d+\\.\\s*([<>]=?|=)'\n",
        "    return series.index.str.match(pattern).any()"
      ],
      "metadata": {
        "collapsed": true,
        "id": "-fHZ6NVOvc_T"
      },
      "execution_count": null,
      "outputs": []
    },
    {
      "cell_type": "code",
      "source": [
        "from tqdm import tqdm\n",
        "\n",
        "progress_bar = tqdm(total=X_train.shape[1])\n",
        "\n",
        "# Iterate over X_train_enc\n",
        "for i, col in enumerate(X_train_enc.columns):\n",
        "    # Select categoric columns\n",
        "    if X_train_enc[col].dtype == 'object' or X_train_enc[col].dtype.name == 'category':\n",
        "        # print(\"{:4d}: {}\".format(i, col))\n",
        "\n",
        "        # Count number of \"classes\" per categoric column\n",
        "        vals = X_train_enc[col].value_counts()\n",
        "\n",
        "        # If classes are letters (e.g. 'N', 'O', 'R'), encode these letters as numbers\n",
        "        if any(val in vals for val in string.ascii_letters):\n",
        "            if col in ['FRCH1', 'FRCH2']: # This column has mixed types (str and int) -> skip to process later\n",
        "                continue\n",
        "\n",
        "            order = vals.index.sort_values().tolist()\n",
        "\n",
        "            # Replace 'N' (non) -> 0, 'O' (oui) -> 1, 'R' (?) -> 2\n",
        "            encoder = OrdinalEncoder(cols=[col], mapping=[{'col': col, 'mapping': {cat: i for i, cat in enumerate(order)}}])\n",
        "\n",
        "            # Apply transformation\n",
        "            X_train_enc[col] = encoder.fit_transform(X_train_enc[col]).astype(int)\n",
        "            X_test_enc[col] = encoder.transform(X_test_enc[col]).astype(int)\n",
        "\n",
        "        # Select columns where there is an order (e.g. CARACT4 is an order of area, ACTIVIT2 is an order of activities -> ACT1, ACT2, etc.)\n",
        "        elif col in ['ACTIVIT2', 'VOCATION', 'INDEM2', 'AN_EXERC', 'CARACT4', 'COEFASS'] or 'TAILLE' in col or \\\n",
        "            'SURFACE' in col or 'DISTANCE' in col or check_inequality_pattern(vals):\n",
        "            if col == 'CARACT4':\n",
        "                # Use OrdinalEncoder for ordinal data\n",
        "                order = ['absence de surface', 'Surface de moins d', 'Surface entre 501',\n",
        "                        'Surface entre 1001', 'Surface entre 1501', 'Surface de plus de']\n",
        "            elif 'SURFACE' in col:\n",
        "                order = sort_surface_series(vals)\n",
        "            elif col in ['ACTIVIT2', 'VOCATION', 'INDEM2', 'AN_EXERC']:\n",
        "                order = get_class_order(vals)\n",
        "            else:\n",
        "                order = get_numeric_order(vals)\n",
        "\n",
        "            # Map classes to an ordered sequence (e.g. CARACT4 will contain 0 for \"absence de surface\", 1 for \"Surface de moins d', etc.\")\n",
        "            mapping = {cat: i for i, cat in enumerate(order)}\n",
        "\n",
        "            # Apply transformations\n",
        "            X_train_enc[col] = X_train_enc[col].map(mapping)\n",
        "            X_test_enc[col] = X_test_enc[col].map(mapping)\n",
        "\n",
        "    progress_bar.update(1)"
      ],
      "metadata": {
        "id": "uQQgErexsv3L",
        "colab": {
          "base_uri": "https://localhost:8080/"
        },
        "outputId": "ecde40e3-269d-4bef-81ef-3aed490e26d9"
      },
      "execution_count": null,
      "outputs": [
        {
          "output_type": "stream",
          "name": "stderr",
          "text": [
            " 99%|█████████▊| 369/374 [00:18<00:00, 15.80it/s]"
          ]
        }
      ]
    },
    {
      "cell_type": "code",
      "source": [
        "#Fix mixed columns by splitting them in 2\n",
        "# label_encoder = LabelEncoder()\n",
        "\n",
        "# new_columns = []\n",
        "# new_columns_test = []\n",
        "for col in mixed_columns:\n",
        "    # # extracts string values from the column, setting non-string values to None.\n",
        "    # str_col = X_train_enc[col].apply(lambda x: x if isinstance(x, str) else None)\n",
        "    # str_col_test = X_test_enc[col].apply(lambda x: x if isinstance(x, str) else None)\n",
        "\n",
        "    # # extracts int, float values from the column, setting non-matches to None.\n",
        "    # num_col = X_train_enc[col].apply(lambda x: x if isinstance(x, (int, float)) else None)\n",
        "    # num_col_test = X_test_enc[col].apply(lambda x: x if isinstance(x, (int, float)) else None)\n",
        "\n",
        "    # # replace None with \"missing\"\n",
        "    # str_col = str_col.fillna(\"missing\")\n",
        "    # str_col_test = str_col_test.fillna(\"missing\")\n",
        "\n",
        "    # # converts the string values in str_col and str_col_test to numerical labels\n",
        "    # str_col = label_encoder.fit_transform(str_col)\n",
        "    # str_col_test = label_encoder.transform(str_col_test)\n",
        "\n",
        "    num_col = X_train_enc.loc[:, col].apply(lambda x: x if type(x) == int else -1)\n",
        "    num_col_test = X_test_enc.loc[:, col].apply(lambda x: x if type(x) == int else -1)\n",
        "\n",
        "    # num_col = X_train_enc[col].apply(lambda x: int(x) if x != else None)\n",
        "    # num_col_test = X_test_enc[col]\n",
        "\n",
        "    # Fill missing values in num_col and num_col_test with the mean of the numeric values.\n",
        "    num_col = num_col.fillna(num_col.mean())\n",
        "    num_col_test = num_col_test.fillna(num_col.mean())\n",
        "\n",
        "    # normalize numeric values in num_col and num_col_test by subtracting the mean and dividing by the standard deviation\n",
        "    num_col = (num_col - num_col.mean())/num_col.std()\n",
        "    num_col_test = (num_col_test - num_col.mean())/num_col.std()\n",
        "\n",
        "    num_col[X_train_enc.loc[:, col].apply(lambda x: type(x) == str)] = -1\n",
        "    num_col_test[X_test_enc.loc[:, col].apply(lambda x: type(x) == str)] = -1\n",
        "    X_train_enc.loc[:, col] = num_col\n",
        "    X_test_enc.loc[:, col] = num_col_test\n",
        "\n",
        "    # # append \"newly created columns\" to the list of new columns\n",
        "    # new_columns.append(pd.DataFrame({\n",
        "    #     col + '_str': str_col,\n",
        "    #     col + '_num': num_col\n",
        "    # }))\n",
        "    # new_columns_test.append(pd.DataFrame({\n",
        "    #     col + '_str': str_col_test,\n",
        "    #     col + '_num': num_col_test\n",
        "    # }))\n",
        "\n",
        "# add new columns to the DataFrame\n",
        "# X_train_enc = pd.concat([X_train_enc.drop(columns=mixed_columns)] + new_columns, axis=1)\n",
        "# X_test_enc = pd.concat([X_test_enc.drop(columns=mixed_columns)] + new_columns_test, axis=1)"
      ],
      "metadata": {
        "id": "5dJfR7vS66wl"
      },
      "execution_count": null,
      "outputs": []
    },
    {
      "cell_type": "markdown",
      "source": [
        "## Checking shapes"
      ],
      "metadata": {
        "id": "rZuy9O_Ls-Zb"
      }
    },
    {
      "cell_type": "code",
      "source": [
        "print(\"Shape of data after adding new columns\")\n",
        "print(X_train_enc.shape)\n",
        "print(X_test_enc.shape)\n",
        "\n",
        "print(\"Shape of original data\")\n",
        "print(X_train.shape)"
      ],
      "metadata": {
        "colab": {
          "base_uri": "https://localhost:8080/"
        },
        "id": "-1fHZAFMLoAz",
        "outputId": "25706647-37fb-43f0-ddb3-772b0453054b"
      },
      "execution_count": null,
      "outputs": [
        {
          "output_type": "stream",
          "name": "stdout",
          "text": [
            "Shape of data after adding new columns\n",
            "(383610, 372)\n",
            "(95852, 372)\n",
            "Shape of original data\n",
            "(383610, 374)\n"
          ]
        }
      ]
    },
    {
      "cell_type": "markdown",
      "source": [],
      "metadata": {
        "id": "lCS6GakDuoyq"
      }
    },
    {
      "cell_type": "code",
      "source": [
        "numeric_columns = [col for col in X_train_enc.select_dtypes(include=['number']).columns if col not in ['FRCH1', 'FRCH2']]\n",
        "print(\"Number of numerical columns: \",len(numeric_columns))\n",
        "\n",
        "mixed_columns = ['FRCH1', 'FRCH2']\n",
        "print(\"Number of columns with mixte values: \",len(mixed_columns))\n",
        "\n",
        "string_columns = [item for item in X_train_enc.columns if (item not in numeric_columns and item not in mixed_columns)]\n",
        "print(\"Number of string columns:\",len(string_columns))"
      ],
      "metadata": {
        "colab": {
          "base_uri": "https://localhost:8080/"
        },
        "id": "I-eAN_rzx6a5",
        "outputId": "75a139ca-82de-4541-e055-d48008593285"
      },
      "execution_count": null,
      "outputs": [
        {
          "output_type": "stream",
          "name": "stdout",
          "text": [
            "Number of numerical columns:  363\n",
            "Number of columns with mixte values:  2\n",
            "Number of string columns: 7\n"
          ]
        }
      ]
    },
    {
      "cell_type": "markdown",
      "source": [
        "## Normalize numeric data"
      ],
      "metadata": {
        "id": "aWnYD1h-tBG1"
      }
    },
    {
      "cell_type": "code",
      "source": [
        "#Normalization + filling NaN for numeric data\n",
        "X_train_mean = X_train_enc[numeric_columns].mean()\n",
        "X_train_std = X_train_enc[numeric_columns].std()\n",
        "\n",
        "X_train_enc[numeric_columns] = X_train_enc[numeric_columns].fillna(X_train_mean)\n",
        "X_train_enc[numeric_columns] = (X_train_enc[numeric_columns] - X_train_mean)/X_train_std\n",
        "X_test_enc[numeric_columns] = X_test_enc[numeric_columns].fillna(X_train_mean)\n",
        "X_test_enc[numeric_columns] = (X_test_enc[numeric_columns] - X_train_mean)/X_train_std\n",
        "\n",
        "y_train_mean = y_train_enc.mean()\n",
        "y_train_std = y_train_enc.std()\n",
        "y_train_enc = (y_train_enc-y_train_mean)/y_train_std"
      ],
      "metadata": {
        "id": "TBTV7HCyITa8"
      },
      "execution_count": null,
      "outputs": []
    },
    {
      "cell_type": "code",
      "source": [
        "X_train_mean.plot(kind='hist', log=True, bins=1000)\n",
        "plt.semilogx()\n",
        "plt.xlabel('Value')\n",
        "plt.ylabel('Frequency')\n",
        "plt.title('Histogram of Mean')\n",
        "plt.savefig('hist_mean.png')\n",
        "plt.show()"
      ],
      "metadata": {
        "colab": {
          "base_uri": "https://localhost:8080/",
          "height": 476
        },
        "id": "BdDyAnlRdr-W",
        "outputId": "939368be-61ca-4ae3-82f6-37d421350066"
      },
      "execution_count": null,
      "outputs": [
        {
          "output_type": "display_data",
          "data": {
            "text/plain": [
              "<Figure size 640x480 with 1 Axes>"
            ],
            "image/png": "[encoded data removed]"
          },
          "metadata": {}
        }
      ]
    },
    {
      "cell_type": "code",
      "source": [
        "# prompt: How to plot the histograms of the columns in y, except for the ID and annee assurance columns where each column is a subplot\n",
        "\n",
        "import matplotlib.pyplot as plt\n",
        "import seaborn as sns\n",
        "\n",
        "# Assuming X_train_enc is your preprocessed DataFrame\n",
        "# and y_train_enc is your target variable DataFrame\n",
        "\n",
        "# Exclude 'ID' and 'ANNEE_ASSURANCE' columns if present in y_train_enc\n",
        "columns_to_plot = [col for col in y_train.columns if col not in ['ID', 'ANNEE_ASSURANCE']]\n",
        "\n",
        "num_plots = len(columns_to_plot)\n",
        "num_cols = 3  # Number of columns in the subplot grid\n",
        "num_rows = (num_plots + num_cols - 1) // num_cols\n",
        "\n",
        "fig, axes = plt.subplots(num_rows, num_cols, figsize=(15, 5 * num_rows))\n",
        "axes = axes.flatten()  # Flatten the axes array for easy iteration\n",
        "\n",
        "\n",
        "for i, col in enumerate(columns_to_plot):\n",
        "    sns.histplot(y_train[col], ax=axes[i], kde=False, log=True)  # histogram call\n",
        "    axes[i].set_title(col)\n",
        "\n",
        "# Remove any unused subplots\n",
        "for j in range(i + 1, len(axes)):\n",
        "    fig.delaxes(axes[j])\n",
        "\n",
        "fig.tight_layout()\n",
        "plt.savefig('histograms_y_train.png')\n",
        "plt.show()\n"
      ],
      "metadata": {
        "colab": {
          "base_uri": "https://localhost:8080/",
          "height": 381
        },
        "id": "7fizqfdIi1EJ",
        "outputId": "a8a7e846-1f43-4d99-9e40-8285d572e9ce"
      },
      "execution_count": null,
      "outputs": [
        {
          "output_type": "display_data",
          "data": {
            "text/plain": [
              "<Figure size 1500x500 with 3 Axes>"
            ],
            "image/png": "[encoded data removed]"
          },
          "metadata": {}
        }
      ]
    },
    {
      "cell_type": "code",
      "source": [
        "# Calculate the correlation matrix\n",
        "correlation_matrix = y_train_enc[columns_to_plot].corr()\n",
        "\n",
        "# Print or visualize the correlation matrix\n",
        "print(correlation_matrix)"
      ],
      "metadata": {
        "colab": {
          "base_uri": "https://localhost:8080/"
        },
        "id": "qnTQKJ_7h8j6",
        "outputId": "23ab6f96-e64b-48fe-8726-3856e4720660"
      },
      "execution_count": null,
      "outputs": [
        {
          "output_type": "stream",
          "name": "stdout",
          "text": [
            "            FREQ        CM    CHARGE\n",
            "FREQ    1.000000  0.139367  0.141063\n",
            "CM      0.139367  1.000000  0.995048\n",
            "CHARGE  0.141063  0.995048  1.000000\n"
          ]
        }
      ]
    },
    {
      "cell_type": "markdown",
      "source": [
        "## One hot encoding for string columns"
      ],
      "metadata": {
        "id": "KvZmWaIvtDzC"
      }
    },
    {
      "cell_type": "code",
      "source": [
        "print(string_columns)"
      ],
      "metadata": {
        "colab": {
          "base_uri": "https://localhost:8080/"
        },
        "id": "jp464YmsfEsX",
        "outputId": "44d772ea-fb85-4e6a-ae94-5043d1d4ed5f"
      },
      "execution_count": null,
      "outputs": [
        {
          "output_type": "stream",
          "name": "stdout",
          "text": [
            "['TYPBAT1', 'DEROG12', 'DEROG13', 'DEROG14', 'DEROG16', 'EQUIPEMENT5', 'ESPINSEE']\n"
          ]
        }
      ]
    },
    {
      "cell_type": "code",
      "source": [
        "#One hot encoding for string columns\n",
        "X_train_enc = pd.get_dummies(X_train_enc, columns =  string_columns, prefix = string_columns, dummy_na=False,dtype=int8)\n",
        "X_test_enc = pd.get_dummies(X_test_enc, columns =  string_columns, prefix = string_columns, dummy_na=False,dtype=int8)\n",
        "\n",
        "missing_cols = list(set(X_train_enc.columns) - set(X_test_enc.columns))\n",
        "\n",
        "# Align columns: Add missing columns to X_test, and remove extra ones\n",
        "X_test_enc = X_test_enc.reindex(columns=X_train_enc.columns, fill_value=0)\n",
        "X_test_enc[missing_cols] = X_test_enc[missing_cols].astype('int8')"
      ],
      "metadata": {
        "id": "kiYAb5g1xvdH"
      },
      "execution_count": null,
      "outputs": []
    },
    {
      "cell_type": "code",
      "source": [
        "print(\"Shape of data after one hot\")\n",
        "print(X_train_enc.shape)\n",
        "print(X_test_enc.shape)"
      ],
      "metadata": {
        "colab": {
          "base_uri": "https://localhost:8080/"
        },
        "id": "ScjSNpk-MTt2",
        "outputId": "3bcc709c-45cb-4bcd-a624-f6011c191d84"
      },
      "execution_count": null,
      "outputs": [
        {
          "output_type": "stream",
          "name": "stdout",
          "text": [
            "Shape of data after one hot\n",
            "(383610, 397)\n",
            "(95852, 397)\n"
          ]
        }
      ]
    },
    {
      "cell_type": "code",
      "source": [
        "X_train_enc['FRCH1'] = pd.to_numeric(X_train_enc['FRCH1'])\n",
        "X_train_enc['FRCH2'] = pd.to_numeric(X_train_enc['FRCH2'])\n",
        "X_test_enc['FRCH1'] = pd.to_numeric(X_test_enc['FRCH1'])\n",
        "X_test_enc['FRCH2'] = pd.to_numeric(X_test_enc['FRCH2'])"
      ],
      "metadata": {
        "id": "HSKpdKffvfIE"
      },
      "execution_count": null,
      "outputs": []
    },
    {
      "cell_type": "code",
      "source": [
        "print(\"Count dtypes\")\n",
        "print(X_train_enc.dtypes.value_counts())\n",
        "print(X_test_enc.dtypes.value_counts())"
      ],
      "metadata": {
        "id": "m6fE4eUY_9Re",
        "colab": {
          "base_uri": "https://localhost:8080/"
        },
        "outputId": "5d29b1e2-6a87-4847-df48-a80b129aa363"
      },
      "execution_count": null,
      "outputs": [
        {
          "output_type": "stream",
          "name": "stdout",
          "text": [
            "Count dtypes\n",
            "float64    365\n",
            "int8        32\n",
            "Name: count, dtype: int64\n",
            "float64    365\n",
            "int8        32\n",
            "Name: count, dtype: int64\n"
          ]
        }
      ]
    },
    {
      "cell_type": "code",
      "source": [
        "print(\"Show nan columns after applying transformations\")\n",
        "nancols = X_train_enc.columns[np.where(X_train_enc.isna().all(axis=0))].tolist()\n",
        "print('In columns', nancols, 'all elements are NaN. Dropping...')\n",
        "X_train_enc.drop(columns=nancols, inplace=True)\n",
        "X_test_enc.drop(columns=nancols, inplace=True)"
      ],
      "metadata": {
        "colab": {
          "base_uri": "https://localhost:8080/"
        },
        "id": "EzrWlgk6zXUY",
        "outputId": "638993ae-a26f-4e96-e102-e9693d51ee6c"
      },
      "execution_count": null,
      "outputs": [
        {
          "output_type": "stream",
          "name": "stdout",
          "text": [
            "Show nan columns after applying transformations\n",
            "In columns ['SURFACE4', 'SURFACE6', 'DISTANCE_244', 'IND_Y1_Y2', 'IND_INC'] all elements are NaN. Dropping...\n"
          ]
        }
      ]
    },
    {
      "cell_type": "code",
      "source": [
        "print(\"Nan Elements in X_train_enc:\",X_train_enc.isna().sum().sum())"
      ],
      "metadata": {
        "colab": {
          "base_uri": "https://localhost:8080/"
        },
        "id": "_pPcznU9owqV",
        "outputId": "3d09acc6-f469-4f29-e541-b782e4af8258"
      },
      "execution_count": null,
      "outputs": [
        {
          "output_type": "stream",
          "name": "stdout",
          "text": [
            "Nan Elements in X_train_enc: 0\n"
          ]
        }
      ]
    },
    {
      "cell_type": "markdown",
      "source": [
        "## Pandas to tensor"
      ],
      "metadata": {
        "id": "huJC1RF3Zkdk"
      }
    },
    {
      "cell_type": "code",
      "source": [
        "train_with_all_data = False\n",
        "\n",
        "if train_with_all_data:\n",
        "    nbr_train = X_train.shape[0]\n",
        "else:\n",
        "    nbr_train = 50000\n",
        "    indices = np.random.choice(X_train.shape[0], nbr_train, replace=False)\n",
        "\n",
        "X_train_tensor = torch.tensor(X_train_enc.values[indices], dtype=torch.float32).to(device)\n",
        "y_train_tensor = torch.tensor(y_train_enc.values[indices], dtype=torch.float32).to(device)\n",
        "X_val_tensor = torch.tensor(X_train_enc.values[~indices], dtype=torch.float32).to(device)\n",
        "y_val_tensor = torch.tensor(y_train_enc.values[~indices], dtype=torch.float32).to(device)\n",
        "\n",
        "y_train_original = torch.tensor(y_train_enc[[\"FREQ\", \"CM\", \"ANNEE_ASSURANCE\", \"CHARGE\"]].values[indices], dtype=torch.float32).to(device)\n",
        "y_val_original = torch.tensor(y_train_enc[[\"FREQ\", \"CM\", \"ANNEE_ASSURANCE\", \"CHARGE\"]].values[~indices], dtype=torch.float32).to(device)\n",
        "\n",
        "X_test_tensor = torch.tensor(X_test_enc.values, dtype=torch.float32).to(device)"
      ],
      "metadata": {
        "id": "cDoZfNxXZgrV"
      },
      "execution_count": null,
      "outputs": []
    },
    {
      "cell_type": "code",
      "source": [
        "def rmse_loss(outputs, labels):\n",
        "    mse_loss = torch.nn.functional.mse_loss(outputs, labels)\n",
        "    return torch.sqrt(mse_loss)"
      ],
      "metadata": {
        "id": "cq5NgFk-PUmt"
      },
      "execution_count": null,
      "outputs": []
    },
    {
      "cell_type": "code",
      "source": [
        "zero_rows_index = torch.nonzero(y_train_original[:, 1] == 0, as_tuple=True)[0]\n",
        "non_zero_rows_index = torch.nonzero(y_train_original[:, 1] != 0, as_tuple=True)[0]"
      ],
      "metadata": {
        "id": "ZjGaJuSYafyP"
      },
      "execution_count": null,
      "outputs": []
    },
    {
      "cell_type": "markdown",
      "source": [
        "# Modèle MLP"
      ],
      "metadata": {
        "id": "oPyMAhaoZZNR"
      }
    },
    {
      "cell_type": "code",
      "source": [
        "# 2 models one for frequency one for the other\n",
        "# !!! Don't predict charge for the one with 0 frequency\n",
        "class Net(nn.Module):\n",
        "  def __init__(self,n):\n",
        "    super().__init__()\n",
        "    self.layer1 = nn.Linear(n,n//4, bias=True)\n",
        "    self.layer2 = nn.Linear(n//4,n//16, bias=True)\n",
        "    self.layer3 = nn.Linear(n//16, 1, bias=True)\n",
        "    self.activation = nn.ReLU()\n",
        "\n",
        "  def forward(self, x):\n",
        "    x = self.layer1(x)\n",
        "    x = self.activation(x)\n",
        "    x = self.layer2(x)\n",
        "    x = self.activation(x)\n",
        "    x = self.layer3(x)\n",
        "    x = self.activation(x)\n",
        "    return x\n",
        "\n",
        "  def train_model(self, train_loader, val_loader, loss_function, optimizer, scheduler, num_epochs):\n",
        "        train_loss_array = []\n",
        "        val_loss_array = []\n",
        "        for epoch in range(num_epochs):\n",
        "            self.train()\n",
        "\n",
        "            total_loss_train = 0.0\n",
        "            total_loss_val = 0.0\n",
        "\n",
        "            for features, labels in train_loader:\n",
        "                optimizer.zero_grad()\n",
        "\n",
        "                outputs = self.forward(features).squeeze()\n",
        "\n",
        "                loss = loss_function(outputs, labels.float())\n",
        "\n",
        "                loss.backward()\n",
        "\n",
        "                optimizer.step()\n",
        "\n",
        "                total_loss_train += loss.item()\n",
        "\n",
        "            scheduler.step()\n",
        "\n",
        "\n",
        "            self.eval()\n",
        "            for features, labels in val_loader:\n",
        "                outputs = self.forward(features).squeeze()\n",
        "                loss = loss_function(outputs, labels.float())\n",
        "                total_loss_val += loss.item()\n",
        "\n",
        "            avg_loss_train = total_loss_train / len(train_loader)\n",
        "            print(f\"Epoch {epoch + 1}/{num_epochs}, Average Loss: {avg_loss_train:.4f}\")\n",
        "            train_loss_array.append(avg_loss_train)\n",
        "\n",
        "            avg_loss_val = total_loss_val / len(val_loader)\n",
        "            print(f\"Epoch {epoch + 1}/{num_epochs}, Average Loss: {avg_loss_val:.4f}\")\n",
        "            val_loss_array.append(avg_loss_val)\n",
        "\n",
        "        return train_loss_array, val_loss_array"
      ],
      "metadata": {
        "id": "Ki_L1xJLHWp0"
      },
      "execution_count": null,
      "outputs": []
    },
    {
      "cell_type": "code",
      "source": [
        "#Use decreasing step size\n",
        "num_epochs = 50\n",
        "learning_rate = 0.0001\n",
        "batchsize = 1024\n",
        "\n",
        "model_freq = Net(n= X_train_tensor.shape[1]).to(device)\n",
        "\n",
        "optimizer = torch.optim.Adam(model_freq.parameters(),lr = learning_rate)\n",
        "scheduler = StepLR(optimizer, step_size=10, gamma=0.3)\n",
        "\n",
        "dataset_train = TensorDataset(X_train_tensor, y_train_tensor[:,0])\n",
        "dataset_val = TensorDataset(X_val_tensor, y_val_tensor[:,0])\n",
        "train_loader = DataLoader(dataset_train, batch_size=batchsize, shuffle=True)\n",
        "val_loader = DataLoader(dataset_val, batch_size=batchsize, shuffle=True)\n",
        "\n",
        "train_loss_array, val_loss_array = model_freq.train_model(train_loader, val_loader, rmse_loss, optimizer, scheduler, num_epochs)"
      ],
      "metadata": {
        "id": "Z4PMk2A9uZrV",
        "colab": {
          "base_uri": "https://localhost:8080/"
        },
        "outputId": "2f2e3f19-00f8-42db-9513-0a8cbd922f5a"
      },
      "execution_count": null,
      "outputs": [
        {
          "output_type": "stream",
          "name": "stdout",
          "text": [
            "Epoch 1/50, Average Loss: 0.6545\n",
            "Epoch 1/50, Average Loss: 0.4828\n",
            "Epoch 2/50, Average Loss: 0.6580\n",
            "Epoch 2/50, Average Loss: 0.4885\n",
            "Epoch 3/50, Average Loss: 0.6583\n",
            "Epoch 3/50, Average Loss: 0.4872\n",
            "Epoch 4/50, Average Loss: 0.6338\n",
            "Epoch 4/50, Average Loss: 0.4884\n",
            "Epoch 5/50, Average Loss: 0.6358\n",
            "Epoch 5/50, Average Loss: 0.4906\n",
            "Epoch 6/50, Average Loss: 0.6288\n",
            "Epoch 6/50, Average Loss: 0.4860\n",
            "Epoch 7/50, Average Loss: 0.6480\n",
            "Epoch 7/50, Average Loss: 0.4893\n",
            "Epoch 8/50, Average Loss: 0.6374\n",
            "Epoch 8/50, Average Loss: 0.4898\n",
            "Epoch 9/50, Average Loss: 0.6561\n",
            "Epoch 9/50, Average Loss: 0.4891\n",
            "Epoch 10/50, Average Loss: 0.6431\n",
            "Epoch 10/50, Average Loss: 0.4854\n",
            "Epoch 11/50, Average Loss: 0.6492\n",
            "Epoch 11/50, Average Loss: 0.4878\n",
            "Epoch 12/50, Average Loss: 0.6490\n",
            "Epoch 12/50, Average Loss: 0.4856\n",
            "Epoch 13/50, Average Loss: 0.6451\n",
            "Epoch 13/50, Average Loss: 0.4872\n",
            "Epoch 14/50, Average Loss: 0.6423\n",
            "Epoch 14/50, Average Loss: 0.4855\n",
            "Epoch 15/50, Average Loss: 0.6432\n",
            "Epoch 15/50, Average Loss: 0.4891\n",
            "Epoch 16/50, Average Loss: 0.6520\n",
            "Epoch 16/50, Average Loss: 0.4840\n",
            "Epoch 17/50, Average Loss: 0.6329\n",
            "Epoch 17/50, Average Loss: 0.4879\n",
            "Epoch 18/50, Average Loss: 0.6257\n",
            "Epoch 18/50, Average Loss: 0.4876\n",
            "Epoch 19/50, Average Loss: 0.6259\n",
            "Epoch 19/50, Average Loss: 0.4857\n",
            "Epoch 20/50, Average Loss: 0.6456\n",
            "Epoch 20/50, Average Loss: 0.4876\n",
            "Epoch 21/50, Average Loss: 0.6410\n",
            "Epoch 21/50, Average Loss: 0.4856\n",
            "Epoch 22/50, Average Loss: 0.6348\n",
            "Epoch 22/50, Average Loss: 0.4885\n",
            "Epoch 23/50, Average Loss: 0.6388\n",
            "Epoch 23/50, Average Loss: 0.4887\n",
            "Epoch 24/50, Average Loss: 0.6165\n",
            "Epoch 24/50, Average Loss: 0.4894\n",
            "Epoch 25/50, Average Loss: 0.6488\n",
            "Epoch 25/50, Average Loss: 0.4871\n",
            "Epoch 26/50, Average Loss: 0.6352\n",
            "Epoch 26/50, Average Loss: 0.4863\n",
            "Epoch 27/50, Average Loss: 0.6427\n",
            "Epoch 27/50, Average Loss: 0.4871\n",
            "Epoch 28/50, Average Loss: 0.6199\n",
            "Epoch 28/50, Average Loss: 0.4874\n",
            "Epoch 29/50, Average Loss: 0.6458\n",
            "Epoch 29/50, Average Loss: 0.4879\n",
            "Epoch 30/50, Average Loss: 0.6353\n",
            "Epoch 30/50, Average Loss: 0.4881\n",
            "Epoch 31/50, Average Loss: 0.6381\n",
            "Epoch 31/50, Average Loss: 0.4872\n",
            "Epoch 32/50, Average Loss: 0.6439\n",
            "Epoch 32/50, Average Loss: 0.4870\n",
            "Epoch 33/50, Average Loss: 0.6375\n",
            "Epoch 33/50, Average Loss: 0.4903\n",
            "Epoch 34/50, Average Loss: 0.6399\n",
            "Epoch 34/50, Average Loss: 0.4889\n",
            "Epoch 35/50, Average Loss: 0.6421\n",
            "Epoch 35/50, Average Loss: 0.4907\n",
            "Epoch 36/50, Average Loss: 0.6515\n",
            "Epoch 36/50, Average Loss: 0.4817\n",
            "Epoch 37/50, Average Loss: 0.6519\n",
            "Epoch 37/50, Average Loss: 0.4898\n",
            "Epoch 38/50, Average Loss: 0.6486\n",
            "Epoch 38/50, Average Loss: 0.4898\n",
            "Epoch 39/50, Average Loss: 0.6419\n",
            "Epoch 39/50, Average Loss: 0.4862\n",
            "Epoch 40/50, Average Loss: 0.6313\n",
            "Epoch 40/50, Average Loss: 0.4866\n",
            "Epoch 41/50, Average Loss: 0.6367\n",
            "Epoch 41/50, Average Loss: 0.4873\n",
            "Epoch 42/50, Average Loss: 0.6314\n",
            "Epoch 42/50, Average Loss: 0.4882\n",
            "Epoch 43/50, Average Loss: 0.6448\n",
            "Epoch 43/50, Average Loss: 0.4855\n",
            "Epoch 44/50, Average Loss: 0.6404\n",
            "Epoch 44/50, Average Loss: 0.4858\n",
            "Epoch 45/50, Average Loss: 0.6350\n",
            "Epoch 45/50, Average Loss: 0.4856\n",
            "Epoch 46/50, Average Loss: 0.6459\n",
            "Epoch 46/50, Average Loss: 0.4849\n",
            "Epoch 47/50, Average Loss: 0.6354\n",
            "Epoch 47/50, Average Loss: 0.4888\n",
            "Epoch 48/50, Average Loss: 0.6337\n",
            "Epoch 48/50, Average Loss: 0.4895\n",
            "Epoch 49/50, Average Loss: 0.6323\n",
            "Epoch 49/50, Average Loss: 0.4846\n",
            "Epoch 50/50, Average Loss: 0.6314\n",
            "Epoch 50/50, Average Loss: 0.4886\n"
          ]
        }
      ]
    },
    {
      "cell_type": "code",
      "source": [
        "plt.plot(range(1,num_epochs+1),train_loss_array,label='Train loss')\n",
        "plt.plot(range(1,num_epochs+1),val_loss_array, label='Val loss')\n",
        "plt.legend()\n",
        "plt.xlabel('Epoch')\n",
        "plt.ylabel('Loss')\n",
        "plt.title('Loss vs Epoch')\n",
        "plt.show()"
      ],
      "metadata": {
        "id": "b6wEkQ9r48PL",
        "colab": {
          "base_uri": "https://localhost:8080/",
          "height": 211
        },
        "outputId": "312dc814-9bac-4746-e0ac-8c8197fb30c8"
      },
      "execution_count": null,
      "outputs": [
        {
          "output_type": "error",
          "ename": "NameError",
          "evalue": "name 'num_epochs' is not defined",
          "traceback": [
            "\u001b[0;31m---------------------------------------------------------------------------\u001b[0m",
            "\u001b[0;31mNameError\u001b[0m                                 Traceback (most recent call last)",
            "\u001b[0;32m<ipython-input-29-107dd42afe0c>\u001b[0m in \u001b[0;36m<cell line: 0>\u001b[0;34m()\u001b[0m\n\u001b[0;32m----> 1\u001b[0;31m \u001b[0mplt\u001b[0m\u001b[0;34m.\u001b[0m\u001b[0mplot\u001b[0m\u001b[0;34m(\u001b[0m\u001b[0mrange\u001b[0m\u001b[0;34m(\u001b[0m\u001b[0;36m1\u001b[0m\u001b[0;34m,\u001b[0m\u001b[0mnum_epochs\u001b[0m\u001b[0;34m+\u001b[0m\u001b[0;36m1\u001b[0m\u001b[0;34m)\u001b[0m\u001b[0;34m,\u001b[0m\u001b[0mtrain_loss_array\u001b[0m\u001b[0;34m,\u001b[0m\u001b[0mlabel\u001b[0m\u001b[0;34m=\u001b[0m\u001b[0;34m'Train loss'\u001b[0m\u001b[0;34m)\u001b[0m\u001b[0;34m\u001b[0m\u001b[0;34m\u001b[0m\u001b[0m\n\u001b[0m\u001b[1;32m      2\u001b[0m \u001b[0mplt\u001b[0m\u001b[0;34m.\u001b[0m\u001b[0mplot\u001b[0m\u001b[0;34m(\u001b[0m\u001b[0mrange\u001b[0m\u001b[0;34m(\u001b[0m\u001b[0;36m1\u001b[0m\u001b[0;34m,\u001b[0m\u001b[0mnum_epochs\u001b[0m\u001b[0;34m+\u001b[0m\u001b[0;36m1\u001b[0m\u001b[0;34m)\u001b[0m\u001b[0;34m,\u001b[0m\u001b[0mval_loss_array\u001b[0m\u001b[0;34m,\u001b[0m \u001b[0mlabel\u001b[0m\u001b[0;34m=\u001b[0m\u001b[0;34m'Val loss'\u001b[0m\u001b[0;34m)\u001b[0m\u001b[0;34m\u001b[0m\u001b[0;34m\u001b[0m\u001b[0m\n\u001b[1;32m      3\u001b[0m \u001b[0mplt\u001b[0m\u001b[0;34m.\u001b[0m\u001b[0mlegend\u001b[0m\u001b[0;34m(\u001b[0m\u001b[0;34m)\u001b[0m\u001b[0;34m\u001b[0m\u001b[0;34m\u001b[0m\u001b[0m\n\u001b[1;32m      4\u001b[0m \u001b[0mplt\u001b[0m\u001b[0;34m.\u001b[0m\u001b[0mxlabel\u001b[0m\u001b[0;34m(\u001b[0m\u001b[0;34m'Epoch'\u001b[0m\u001b[0;34m)\u001b[0m\u001b[0;34m\u001b[0m\u001b[0;34m\u001b[0m\u001b[0m\n\u001b[1;32m      5\u001b[0m \u001b[0mplt\u001b[0m\u001b[0;34m.\u001b[0m\u001b[0mylabel\u001b[0m\u001b[0;34m(\u001b[0m\u001b[0;34m'Loss'\u001b[0m\u001b[0;34m)\u001b[0m\u001b[0;34m\u001b[0m\u001b[0;34m\u001b[0m\u001b[0m\n",
            "\u001b[0;31mNameError\u001b[0m: name 'num_epochs' is not defined"
          ]
        }
      ]
    },
    {
      "cell_type": "markdown",
      "source": [
        "# Linear Reg"
      ],
      "metadata": {
        "id": "LE1xjCTbz4DG"
      }
    },
    {
      "cell_type": "code",
      "source": [
        "from sklearn.linear_model import LinearRegression, Ridge, Lasso\n",
        "from sklearn.model_selection import GridSearchCV"
      ],
      "metadata": {
        "id": "tBgEnmAJwodq"
      },
      "execution_count": null,
      "outputs": []
    },
    {
      "cell_type": "code",
      "source": [
        "\n",
        "\n",
        "#FREQ predict\n",
        "\n",
        "alpha = 1.0\n",
        "\n",
        "#linreg_freq = LinearRegression()\n",
        "linreg_freq = Lasso(alpha = alpha)\n",
        "#linreg_freq = Ridge(alpha= alpha)\n",
        "\n",
        "linreg_freq.fit(X_train_tensor, y_train_tensor[:,0])\n",
        "\n",
        "pred_train_freq = linreg_freq.predict(X_train_tensor)\n",
        "\n",
        "if not train_with_all_data:\n",
        "    pred_val_freq = linreg_freq.predict(X_val_tensor)\n",
        "\n",
        "y_train_pred_rescaled = pred_train_freq * y_train_std['FREQ'] + y_train_mean['FREQ'] # y_pred * (original_max - original_min) + original_min\n",
        "\n",
        "if not train_with_all_data:\n",
        "    y_val_pred_rescaled = pred_val_freq * y_train_std['FREQ'] + y_train_mean['FREQ']\n",
        "\n",
        "print(\"Train error:\", rmse_loss(torch.tensor(y_train['FREQ'].values[:nbr_train], dtype = torch.float32),  torch.tensor(y_train_pred_rescaled, dtype=torch.float32)))\n",
        "\n",
        "if not train_with_all_data:\n",
        "    print(\"Val error:\", rmse_loss(torch.tensor(y_train['FREQ'].values[nbr_train:], dtype = torch.float32),  torch.tensor(y_val_pred_rescaled, dtype=torch.float32)))"
      ],
      "metadata": {
        "id": "tEoesHXvAFHt",
        "colab": {
          "base_uri": "https://localhost:8080/"
        },
        "outputId": "ac27d09e-0f01-48a2-f772-2028750370a3"
      },
      "execution_count": null,
      "outputs": [
        {
          "output_type": "stream",
          "name": "stdout",
          "text": [
            "Train error: tensor(0.3571)\n"
          ]
        }
      ]
    },
    {
      "cell_type": "code",
      "source": [
        "def evaluate_model(y_true, y_pred, model_name):\n",
        "    from sklearn.metrics import mean_squared_error, mean_absolute_error, r2_score\n",
        "    mse = mean_squared_error(y_true, y_pred)\n",
        "    rmse = np.sqrt(mse)\n",
        "    mae = mean_absolute_error(y_true, y_pred)\n",
        "    r2 = r2_score(y_true, y_pred)\n",
        "\n",
        "    print(f\"\\n{model_name} Performance Metrics:\")\n",
        "    print(f\"R² Score: {r2:.4f}\")\n",
        "    print(f\"RMSE: {rmse:.2f}\")\n",
        "    print(f\"MAE: {mae:.2f}\")\n",
        "\n",
        "    return {'model': model_name, 'r2': r2, 'rmse': rmse, 'mae': mae}\n",
        "# List to store results\n",
        "results = []\n",
        "best_models = {}"
      ],
      "metadata": {
        "id": "OcoL-KdZw1ab"
      },
      "execution_count": null,
      "outputs": []
    },
    {
      "cell_type": "code",
      "source": [
        "print(\"\\n=== Linear Regression ===\")\n",
        "lr_model = LinearRegression()\n",
        "lr_model.fit(X_train_tensor.cpu(), y_train_tensor[:,1].cpu())\n",
        "lr_pred = lr_model.predict(X_val_tensor.cpu())\n",
        "results.append(evaluate_model(y_val_tensor[:,2].cpu(), lr_pred, \"Linear Regression\"))\n",
        "\n",
        "print(\"\\n=== Linear Regression ===\")\n",
        "lr_model_cm = LinearRegression()\n",
        "lr_model_cm.fit(X_train_tensor.cpu(), y_train_tensor[:,2].cpu())\n",
        "lr_pred_cm = lr_model_cm.predict(X_val_tensor.cpu())\n",
        "results.append(evaluate_model(y_val_tensor[:,2].cpu(), lr_pred_cm, \"Linear Regression CM\"))"
      ],
      "metadata": {
        "id": "Qb1fzagFzRzq"
      },
      "execution_count": null,
      "outputs": []
    },
    {
      "cell_type": "code",
      "source": [
        "print(\"\\n=== Ridge Regression Hyperparameter Tuning ===\")\n",
        "ridge_params = {\n",
        "    'alpha': [0.001, 0.01, 0.1, 1.0, 10.0, 100.0],\n",
        "    'solver': ['auto', 'svd', 'cholesky', 'lsqr']\n",
        "}\n",
        "ridge_grid = GridSearchCV(Ridge(), ridge_params, cv=5, scoring='r2', n_jobs=-1, verbose=10)\n",
        "ridge_grid.fit(X_train_tensor.cpu(), y_train_tensor[:,:2].cpu())\n",
        "print(f\"Best parameters: {ridge_grid.best_params_}\")\n",
        "ridge_pred = ridge_grid.predict(X_val_tensor.cpu())\n",
        "results.append(evaluate_model(y_val_tensor[:,:2].cpu(), ridge_pred, \"Ridge Regression (Tuned)\"))\n",
        "best_models['Ridge_FREQ'] = ridge_grid.best_estimator_\n",
        "\n",
        "# ridge_grid_cm = GridSearchCV(Ridge(), ridge_params, cv=5, scoring='r2', n_jobs=-1, verbose=10)\n",
        "# ridge_grid_cm.fit(X_train_tensor.cpu(), y_train_tensor[:,1].cpu())\n",
        "# print(f\"Best parameters: {ridge_grid_cm.best_params_}\")\n",
        "# ridge_pred_cm = ridge_grid_cm.predict(X_val_tensor.cpu())\n",
        "# results.append(evaluate_model(y_val_tensor[:,1].cpu(), ridge_pred_cm, \"Ridge Regression (Tuned)\"))\n",
        "# best_models['Ridge_CM'] = ridge_grid_cm.best_estimator_"
      ],
      "metadata": {
        "colab": {
          "base_uri": "https://localhost:8080/"
        },
        "id": "vkA9L8E2wnMc",
        "outputId": "ae8218d9-c37e-450f-b602-fc97b2d6e0fe"
      },
      "execution_count": null,
      "outputs": [
        {
          "output_type": "stream",
          "name": "stdout",
          "text": [
            "\n",
            "=== Ridge Regression Hyperparameter Tuning ===\n",
            "Fitting 5 folds for each of 24 candidates, totalling 120 fits\n",
            "Best parameters: {'alpha': 100.0, 'solver': 'svd'}\n",
            "\n",
            "Ridge Regression (Tuned) Performance Metrics:\n",
            "R² Score: -0.0858\n",
            "RMSE: 0.78\n",
            "MAE: 0.14\n"
          ]
        }
      ]
    },
    {
      "cell_type": "code",
      "source": [
        "results"
      ],
      "metadata": {
        "colab": {
          "base_uri": "https://localhost:8080/"
        },
        "id": "DNQyPY-_zES7",
        "outputId": "f11de501-9398-410a-eb5e-941e0a9b73f0"
      },
      "execution_count": null,
      "outputs": [
        {
          "output_type": "execute_result",
          "data": {
            "text/plain": [
              "[{'model': 'Ridge Regression (Tuned)',\n",
              "  'r2': -0.16240961716606717,\n",
              "  'rmse': np.float64(0.6828181834660878),\n",
              "  'mae': 0.19025092329421817},\n",
              " {'model': 'Ridge Regression (Tuned)',\n",
              "  'r2': -0.009134160065104702,\n",
              "  'rmse': np.float64(0.8667477371023062),\n",
              "  'mae': 0.09128661878102091}]"
            ]
          },
          "metadata": {},
          "execution_count": 33
        }
      ]
    },
    {
      "cell_type": "code",
      "source": [
        "#CM predict\n",
        "\n",
        "alpha = 1.0\n",
        "\n",
        "#linreg_cm = LinearRegression()\n",
        "linreg_cm = Lasso(alpha = alpha)\n",
        "#linreg_cm = Ridge(alpha = alpha)\n",
        "\n",
        "linreg_cm.fit(X_train_tensor, y_train_tensor[:,1])\n",
        "\n",
        "pred_train_cm = linreg_cm.predict(X_train_tensor)\n",
        "\n",
        "if not train_with_all_data:\n",
        "    pred_val_cm = linreg_cm.predict(X_val_tensor)\n",
        "\n",
        "y_train_pred_rescaled_cm = pred_train_cm * y_train_std['CM'] + y_train_mean['CM']\n",
        "\n",
        "if not train_with_all_data:\n",
        "    y_val_pred_rescaled_cm = pred_val_cm * y_train_std['CM'] + y_train_mean['CM']\n",
        "\n",
        "print(\"Train error:\", rmse_loss(torch.tensor(y_train['CM'].values[:nbr_train], dtype = torch.float32),  torch.tensor(y_train_pred_rescaled_cm, dtype=torch.float32)))\n",
        "\n",
        "if not train_with_all_data:\n",
        "    print(\"Val error:\", rmse_loss(torch.tensor(y_train['CM'].values[nbr_train:], dtype = torch.float32),  torch.tensor(y_val_pred_rescaled_cm, dtype=torch.float32)))"
      ],
      "metadata": {
        "colab": {
          "base_uri": "https://localhost:8080/"
        },
        "id": "QhJYvIrR1Z8k",
        "outputId": "969dd6c0-5af5-4515-a879-e548f4029042"
      },
      "execution_count": null,
      "outputs": [
        {
          "output_type": "stream",
          "name": "stdout",
          "text": [
            "Train error: tensor(6699.9590)\n"
          ]
        }
      ]
    },
    {
      "cell_type": "code",
      "source": [
        "# Charge\n",
        "y_train_pred = y_train_pred_rescaled * y_train_pred_rescaled_cm * y_train_enc['ANNEE_ASSURANCE'].values[:nbr_train]\n",
        "\n",
        "if not train_with_all_data:\n",
        "    y_val_pred = y_val_pred_rescaled * y_val_pred_rescaled_cm * y_train_enc['ANNEE_ASSURANCE'].values[nbr_train:]\n",
        "\n",
        "rmse = rmse_loss(torch.tensor(y_train_enc['CHARGE'].values[:nbr_train]), torch.tensor(y_train_pred))\n",
        "print(f\"RMSE total sur l'ensemble d'entraînement : {rmse:.2f}\")\n",
        "\n",
        "\n",
        "if not train_with_all_data:\n",
        "  rmse = rmse_loss(torch.tensor(y_train_enc['CHARGE'].values[nbr_train:]), torch.tensor(y_val_pred))\n",
        "  print(f\"RMSE total sur l'ensemble de validation : {rmse:.2f}\")"
      ],
      "metadata": {
        "colab": {
          "base_uri": "https://localhost:8080/"
        },
        "id": "2pRhElVO3tDC",
        "outputId": "b10e70ce-75a1-40dc-dc58-dcb87e6f943b"
      },
      "execution_count": null,
      "outputs": [
        {
          "output_type": "stream",
          "name": "stdout",
          "text": [
            "RMSE total sur l'ensemble d'entraînement : 2.48\n"
          ]
        }
      ]
    },
    {
      "cell_type": "markdown",
      "source": [
        "##Test"
      ],
      "metadata": {
        "id": "aelHyNv94wtM"
      }
    },
    {
      "cell_type": "code",
      "source": [
        "linreg_freq.predict(X_test_tensor.cpu())"
      ],
      "metadata": {
        "colab": {
          "base_uri": "https://localhost:8080/"
        },
        "id": "1pep_M-2cU-F",
        "outputId": "46cfb282-0883-43bc-f4c2-78d2ccf46566"
      },
      "execution_count": null,
      "outputs": [
        {
          "output_type": "execute_result",
          "data": {
            "text/plain": [
              "array([[ 0.03785301, -0.18823344],\n",
              "       [-0.06942028, -0.07215239],\n",
              "       [ 0.08348204,  0.00498487],\n",
              "       ...,\n",
              "       [-0.37400908, -0.03063072],\n",
              "       [ 0.02151269, -0.01913396],\n",
              "       [ 0.31344853,  0.1113989 ]])"
            ]
          },
          "metadata": {},
          "execution_count": 39
        }
      ]
    },
    {
      "cell_type": "code",
      "source": [
        "# Prédire 'FREQ' sur l'ensemble de test\n",
        "# linreg_freq = lr_model\n",
        "# linreg_cm = lr_model_cm\n",
        "linreg_freq = best_models['Ridge_FREQ']\n",
        "# linreg_cm = best_models['Ridge_CM']\n",
        "\n",
        "y_test_pred = linreg_freq.predict(X_test_tensor.cpu())\n",
        "y_test_pred_freq = y_test_pred[:,0]\n",
        "y_test_pred_cm = y_test_pred[:,1]\n",
        "# y_test_pred_freq = linreg_freq.predict(X_test_tensor.cpu())\n",
        "y_test_pred_rescaled = y_test_pred_freq * y_train_std['FREQ'] + y_train_mean['FREQ'] # y_pred * (original_max - original_min) + original_min\n",
        "\n",
        "# Prédire 'CM' sur l'ensemble de test\n",
        "# y_test_pred_cm = linreg_cm.predict(X_test_tensor.cpu())\n",
        "y_test_pred_rescaled_cm = y_test_pred_cm * y_train_std['CM'] + y_train_mean['CM']\n",
        "\n",
        "# Prédire assurance sur l'ensemble de test\n",
        "y_test_pred = y_test_pred_rescaled * y_test_pred_rescaled_cm * X_test['ANNEE_ASSURANCE'].values"
      ],
      "metadata": {
        "id": "Kvv3lK5F40HR"
      },
      "execution_count": null,
      "outputs": []
    },
    {
      "cell_type": "code",
      "source": [
        "y_test_pred_df = pd.DataFrame(data=np.column_stack([y_test_pred_freq, y_test_pred_cm, X_test['ANNEE_ASSURANCE'].values, y_test_pred]),\n",
        "                              columns=['FREQ', 'CM', 'ANNEE_ASSURANCE', 'CHARGE'])\n",
        "y_test_pred_df['ID'] = X_test['ID'].tolist() # index pred with X_test index values\n",
        "y_test_pred_df = y_test_pred_df[['ID', 'FREQ', 'CM', 'ANNEE_ASSURANCE', 'CHARGE']]\n",
        "y_test_pred_df"
      ],
      "metadata": {
        "colab": {
          "base_uri": "https://localhost:8080/",
          "height": 423
        },
        "id": "nJ5AIgaY5ElT",
        "outputId": "7c3d1d50-8bd8-4e55-df59-fd2f156d4f10"
      },
      "execution_count": null,
      "outputs": [
        {
          "output_type": "execute_result",
          "data": {
            "text/plain": [
              "           ID      FREQ        CM  ANNEE_ASSURANCE     CHARGE\n",
              "0      383611  0.037853 -0.188233         0.813699 -22.793602\n",
              "1      383612 -0.069420 -0.072152         1.000000   3.713077\n",
              "2      383613  0.083482  0.004985         0.586301   5.350569\n",
              "3      383614 -0.021307  0.072373         1.000000   3.231893\n",
              "4      383615 -0.146961  0.219423         0.753425 -49.845605\n",
              "...       ...       ...       ...              ...        ...\n",
              "95847  479458  0.377299  0.230130         0.005479   1.390801\n",
              "95848  479459 -0.161999 -0.110681         1.000000  25.381641\n",
              "95849  479460 -0.374009 -0.030631         0.427397   1.175229\n",
              "95850  479461  0.021513 -0.019134         1.000000   1.093805\n",
              "95851  479462  0.313449  0.111399         0.586301  67.745484\n",
              "\n",
              "[95852 rows x 5 columns]"
            ],
            "text/html": [
              "\n",
              "  <div id=\"df-be9b0c98-13e5-41a4-9872-25b17ec016b9\" class=\"colab-df-container\">\n",
              "    <div>\n",
              "<style scoped>\n",
              "    .dataframe tbody tr th:only-of-type {\n",
              "        vertical-align: middle;\n",
              "    }\n",
              "\n",
              "    .dataframe tbody tr th {\n",
              "        vertical-align: top;\n",
              "    }\n",
              "\n",
              "    .dataframe thead th {\n",
              "        text-align: right;\n",
              "    }\n",
              "</style>\n",
              "<table border=\"1\" class=\"dataframe\">\n",
              "  <thead>\n",
              "    <tr style=\"text-align: right;\">\n",
              "      <th></th>\n",
              "      <th>ID</th>\n",
              "      <th>FREQ</th>\n",
              "      <th>CM</th>\n",
              "      <th>ANNEE_ASSURANCE</th>\n",
              "      <th>CHARGE</th>\n",
              "    </tr>\n",
              "  </thead>\n",
              "  <tbody>\n",
              "    <tr>\n",
              "      <th>0</th>\n",
              "      <td>383611</td>\n",
              "      <td>0.037853</td>\n",
              "      <td>-0.188233</td>\n",
              "      <td>0.813699</td>\n",
              "      <td>-22.793602</td>\n",
              "    </tr>\n",
              "    <tr>\n",
              "      <th>1</th>\n",
              "      <td>383612</td>\n",
              "      <td>-0.069420</td>\n",
              "      <td>-0.072152</td>\n",
              "      <td>1.000000</td>\n",
              "      <td>3.713077</td>\n",
              "    </tr>\n",
              "    <tr>\n",
              "      <th>2</th>\n",
              "      <td>383613</td>\n",
              "      <td>0.083482</td>\n",
              "      <td>0.004985</td>\n",
              "      <td>0.586301</td>\n",
              "      <td>5.350569</td>\n",
              "    </tr>\n",
              "    <tr>\n",
              "      <th>3</th>\n",
              "      <td>383614</td>\n",
              "      <td>-0.021307</td>\n",
              "      <td>0.072373</td>\n",
              "      <td>1.000000</td>\n",
              "      <td>3.231893</td>\n",
              "    </tr>\n",
              "    <tr>\n",
              "      <th>4</th>\n",
              "      <td>383615</td>\n",
              "      <td>-0.146961</td>\n",
              "      <td>0.219423</td>\n",
              "      <td>0.753425</td>\n",
              "      <td>-49.845605</td>\n",
              "    </tr>\n",
              "    <tr>\n",
              "      <th>...</th>\n",
              "      <td>...</td>\n",
              "      <td>...</td>\n",
              "      <td>...</td>\n",
              "      <td>...</td>\n",
              "      <td>...</td>\n",
              "    </tr>\n",
              "    <tr>\n",
              "      <th>95847</th>\n",
              "      <td>479458</td>\n",
              "      <td>0.377299</td>\n",
              "      <td>0.230130</td>\n",
              "      <td>0.005479</td>\n",
              "      <td>1.390801</td>\n",
              "    </tr>\n",
              "    <tr>\n",
              "      <th>95848</th>\n",
              "      <td>479459</td>\n",
              "      <td>-0.161999</td>\n",
              "      <td>-0.110681</td>\n",
              "      <td>1.000000</td>\n",
              "      <td>25.381641</td>\n",
              "    </tr>\n",
              "    <tr>\n",
              "      <th>95849</th>\n",
              "      <td>479460</td>\n",
              "      <td>-0.374009</td>\n",
              "      <td>-0.030631</td>\n",
              "      <td>0.427397</td>\n",
              "      <td>1.175229</td>\n",
              "    </tr>\n",
              "    <tr>\n",
              "      <th>95850</th>\n",
              "      <td>479461</td>\n",
              "      <td>0.021513</td>\n",
              "      <td>-0.019134</td>\n",
              "      <td>1.000000</td>\n",
              "      <td>1.093805</td>\n",
              "    </tr>\n",
              "    <tr>\n",
              "      <th>95851</th>\n",
              "      <td>479462</td>\n",
              "      <td>0.313449</td>\n",
              "      <td>0.111399</td>\n",
              "      <td>0.586301</td>\n",
              "      <td>67.745484</td>\n",
              "    </tr>\n",
              "  </tbody>\n",
              "</table>\n",
              "<p>95852 rows × 5 columns</p>\n",
              "</div>\n",
              "    <div class=\"colab-df-buttons\">\n",
              "\n",
              "  <div class=\"colab-df-container\">\n",
              "    <button class=\"colab-df-convert\" onclick=\"convertToInteractive('df-be9b0c98-13e5-41a4-9872-25b17ec016b9')\"\n",
              "            title=\"Convert this dataframe to an interactive table.\"\n",
              "            style=\"display:none;\">\n",
              "\n",
              "  <svg xmlns=\"http://www.w3.org/2000/svg\" height=\"24px\" viewBox=\"0 -960 960 960\">\n",
              "    <path d=\"M120-120v-720h720v720H120Zm60-500h600v-160H180v160Zm220 220h160v-160H400v160Zm0 220h160v-160H400v160ZM180-400h160v-160H180v160Zm440 0h160v-160H620v160ZM180-180h160v-160H180v160Zm440 0h160v-160H620v160Z\"/>\n",
              "  </svg>\n",
              "    </button>\n",
              "\n",
              "  <style>\n",
              "    .colab-df-container {\n",
              "      display:flex;\n",
              "      gap: 12px;\n",
              "    }\n",
              "\n",
              "    .colab-df-convert {\n",
              "      background-color: #E8F0FE;\n",
              "      border: none;\n",
              "      border-radius: 50%;\n",
              "      cursor: pointer;\n",
              "      display: none;\n",
              "      fill: #1967D2;\n",
              "      height: 32px;\n",
              "      padding: 0 0 0 0;\n",
              "      width: 32px;\n",
              "    }\n",
              "\n",
              "    .colab-df-convert:hover {\n",
              "      background-color: #E2EBFA;\n",
              "      box-shadow: 0px 1px 2px rgba(60, 64, 67, 0.3), 0px 1px 3px 1px rgba(60, 64, 67, 0.15);\n",
              "      fill: #174EA6;\n",
              "    }\n",
              "\n",
              "    .colab-df-buttons div {\n",
              "      margin-bottom: 4px;\n",
              "    }\n",
              "\n",
              "    [theme=dark] .colab-df-convert {\n",
              "      background-color: #3B4455;\n",
              "      fill: #D2E3FC;\n",
              "    }\n",
              "\n",
              "    [theme=dark] .colab-df-convert:hover {\n",
              "      background-color: #434B5C;\n",
              "      box-shadow: 0px 1px 3px 1px rgba(0, 0, 0, 0.15);\n",
              "      filter: drop-shadow(0px 1px 2px rgba(0, 0, 0, 0.3));\n",
              "      fill: #FFFFFF;\n",
              "    }\n",
              "  </style>\n",
              "\n",
              "    <script>\n",
              "      const buttonEl =\n",
              "        document.querySelector('#df-be9b0c98-13e5-41a4-9872-25b17ec016b9 button.colab-df-convert');\n",
              "      buttonEl.style.display =\n",
              "        google.colab.kernel.accessAllowed ? 'block' : 'none';\n",
              "\n",
              "      async function convertToInteractive(key) {\n",
              "        const element = document.querySelector('#df-be9b0c98-13e5-41a4-9872-25b17ec016b9');\n",
              "        const dataTable =\n",
              "          await google.colab.kernel.invokeFunction('convertToInteractive',\n",
              "                                                    [key], {});\n",
              "        if (!dataTable) return;\n",
              "\n",
              "        const docLinkHtml = 'Like what you see? Visit the ' +\n",
              "          '<a target=\"_blank\" href=https://colab.research.google.com/notebooks/data_table.ipynb>data table notebook</a>'\n",
              "          + ' to learn more about interactive tables.';\n",
              "        element.innerHTML = '';\n",
              "        dataTable['output_type'] = 'display_data';\n",
              "        await google.colab.output.renderOutput(dataTable, element);\n",
              "        const docLink = document.createElement('div');\n",
              "        docLink.innerHTML = docLinkHtml;\n",
              "        element.appendChild(docLink);\n",
              "      }\n",
              "    </script>\n",
              "  </div>\n",
              "\n",
              "\n",
              "<div id=\"df-8645428b-3c2f-4c3a-a96c-a30f9d96cfab\">\n",
              "  <button class=\"colab-df-quickchart\" onclick=\"quickchart('df-8645428b-3c2f-4c3a-a96c-a30f9d96cfab')\"\n",
              "            title=\"Suggest charts\"\n",
              "            style=\"display:none;\">\n",
              "\n",
              "<svg xmlns=\"http://www.w3.org/2000/svg\" height=\"24px\"viewBox=\"0 0 24 24\"\n",
              "     width=\"24px\">\n",
              "    <g>\n",
              "        <path d=\"M19 3H5c-1.1 0-2 .9-2 2v14c0 1.1.9 2 2 2h14c1.1 0 2-.9 2-2V5c0-1.1-.9-2-2-2zM9 17H7v-7h2v7zm4 0h-2V7h2v10zm4 0h-2v-4h2v4z\"/>\n",
              "    </g>\n",
              "</svg>\n",
              "  </button>\n",
              "\n",
              "<style>\n",
              "  .colab-df-quickchart {\n",
              "      --bg-color: #E8F0FE;\n",
              "      --fill-color: #1967D2;\n",
              "      --hover-bg-color: #E2EBFA;\n",
              "      --hover-fill-color: #174EA6;\n",
              "      --disabled-fill-color: #AAA;\n",
              "      --disabled-bg-color: #DDD;\n",
              "  }\n",
              "\n",
              "  [theme=dark] .colab-df-quickchart {\n",
              "      --bg-color: #3B4455;\n",
              "      --fill-color: #D2E3FC;\n",
              "      --hover-bg-color: #434B5C;\n",
              "      --hover-fill-color: #FFFFFF;\n",
              "      --disabled-bg-color: #3B4455;\n",
              "      --disabled-fill-color: #666;\n",
              "  }\n",
              "\n",
              "  .colab-df-quickchart {\n",
              "    background-color: var(--bg-color);\n",
              "    border: none;\n",
              "    border-radius: 50%;\n",
              "    cursor: pointer;\n",
              "    display: none;\n",
              "    fill: var(--fill-color);\n",
              "    height: 32px;\n",
              "    padding: 0;\n",
              "    width: 32px;\n",
              "  }\n",
              "\n",
              "  .colab-df-quickchart:hover {\n",
              "    background-color: var(--hover-bg-color);\n",
              "    box-shadow: 0 1px 2px rgba(60, 64, 67, 0.3), 0 1px 3px 1px rgba(60, 64, 67, 0.15);\n",
              "    fill: var(--button-hover-fill-color);\n",
              "  }\n",
              "\n",
              "  .colab-df-quickchart-complete:disabled,\n",
              "  .colab-df-quickchart-complete:disabled:hover {\n",
              "    background-color: var(--disabled-bg-color);\n",
              "    fill: var(--disabled-fill-color);\n",
              "    box-shadow: none;\n",
              "  }\n",
              "\n",
              "  .colab-df-spinner {\n",
              "    border: 2px solid var(--fill-color);\n",
              "    border-color: transparent;\n",
              "    border-bottom-color: var(--fill-color);\n",
              "    animation:\n",
              "      spin 1s steps(1) infinite;\n",
              "  }\n",
              "\n",
              "  @keyframes spin {\n",
              "    0% {\n",
              "      border-color: transparent;\n",
              "      border-bottom-color: var(--fill-color);\n",
              "      border-left-color: var(--fill-color);\n",
              "    }\n",
              "    20% {\n",
              "      border-color: transparent;\n",
              "      border-left-color: var(--fill-color);\n",
              "      border-top-color: var(--fill-color);\n",
              "    }\n",
              "    30% {\n",
              "      border-color: transparent;\n",
              "      border-left-color: var(--fill-color);\n",
              "      border-top-color: var(--fill-color);\n",
              "      border-right-color: var(--fill-color);\n",
              "    }\n",
              "    40% {\n",
              "      border-color: transparent;\n",
              "      border-right-color: var(--fill-color);\n",
              "      border-top-color: var(--fill-color);\n",
              "    }\n",
              "    60% {\n",
              "      border-color: transparent;\n",
              "      border-right-color: var(--fill-color);\n",
              "    }\n",
              "    80% {\n",
              "      border-color: transparent;\n",
              "      border-right-color: var(--fill-color);\n",
              "      border-bottom-color: var(--fill-color);\n",
              "    }\n",
              "    90% {\n",
              "      border-color: transparent;\n",
              "      border-bottom-color: var(--fill-color);\n",
              "    }\n",
              "  }\n",
              "</style>\n",
              "\n",
              "  <script>\n",
              "    async function quickchart(key) {\n",
              "      const quickchartButtonEl =\n",
              "        document.querySelector('#' + key + ' button');\n",
              "      quickchartButtonEl.disabled = true;  // To prevent multiple clicks.\n",
              "      quickchartButtonEl.classList.add('colab-df-spinner');\n",
              "      try {\n",
              "        const charts = await google.colab.kernel.invokeFunction(\n",
              "            'suggestCharts', [key], {});\n",
              "      } catch (error) {\n",
              "        console.error('Error during call to suggestCharts:', error);\n",
              "      }\n",
              "      quickchartButtonEl.classList.remove('colab-df-spinner');\n",
              "      quickchartButtonEl.classList.add('colab-df-quickchart-complete');\n",
              "    }\n",
              "    (() => {\n",
              "      let quickchartButtonEl =\n",
              "        document.querySelector('#df-8645428b-3c2f-4c3a-a96c-a30f9d96cfab button');\n",
              "      quickchartButtonEl.style.display =\n",
              "        google.colab.kernel.accessAllowed ? 'block' : 'none';\n",
              "    })();\n",
              "  </script>\n",
              "</div>\n",
              "\n",
              "  <div id=\"id_e7bc5b85-af8f-4b52-9a35-2a03c4c704d5\">\n",
              "    <style>\n",
              "      .colab-df-generate {\n",
              "        background-color: #E8F0FE;\n",
              "        border: none;\n",
              "        border-radius: 50%;\n",
              "        cursor: pointer;\n",
              "        display: none;\n",
              "        fill: #1967D2;\n",
              "        height: 32px;\n",
              "        padding: 0 0 0 0;\n",
              "        width: 32px;\n",
              "      }\n",
              "\n",
              "      .colab-df-generate:hover {\n",
              "        background-color: #E2EBFA;\n",
              "        box-shadow: 0px 1px 2px rgba(60, 64, 67, 0.3), 0px 1px 3px 1px rgba(60, 64, 67, 0.15);\n",
              "        fill: #174EA6;\n",
              "      }\n",
              "\n",
              "      [theme=dark] .colab-df-generate {\n",
              "        background-color: #3B4455;\n",
              "        fill: #D2E3FC;\n",
              "      }\n",
              "\n",
              "      [theme=dark] .colab-df-generate:hover {\n",
              "        background-color: #434B5C;\n",
              "        box-shadow: 0px 1px 3px 1px rgba(0, 0, 0, 0.15);\n",
              "        filter: drop-shadow(0px 1px 2px rgba(0, 0, 0, 0.3));\n",
              "        fill: #FFFFFF;\n",
              "      }\n",
              "    </style>\n",
              "    <button class=\"colab-df-generate\" onclick=\"generateWithVariable('y_test_pred_df')\"\n",
              "            title=\"Generate code using this dataframe.\"\n",
              "            style=\"display:none;\">\n",
              "\n",
              "  <svg xmlns=\"http://www.w3.org/2000/svg\" height=\"24px\"viewBox=\"0 0 24 24\"\n",
              "       width=\"24px\">\n",
              "    <path d=\"M7,19H8.4L18.45,9,17,7.55,7,17.6ZM5,21V16.75L18.45,3.32a2,2,0,0,1,2.83,0l1.4,1.43a1.91,1.91,0,0,1,.58,1.4,1.91,1.91,0,0,1-.58,1.4L9.25,21ZM18.45,9,17,7.55Zm-12,3A5.31,5.31,0,0,0,4.9,8.1,5.31,5.31,0,0,0,1,6.5,5.31,5.31,0,0,0,4.9,4.9,5.31,5.31,0,0,0,6.5,1,5.31,5.31,0,0,0,8.1,4.9,5.31,5.31,0,0,0,12,6.5,5.46,5.46,0,0,0,6.5,12Z\"/>\n",
              "  </svg>\n",
              "    </button>\n",
              "    <script>\n",
              "      (() => {\n",
              "      const buttonEl =\n",
              "        document.querySelector('#id_e7bc5b85-af8f-4b52-9a35-2a03c4c704d5 button.colab-df-generate');\n",
              "      buttonEl.style.display =\n",
              "        google.colab.kernel.accessAllowed ? 'block' : 'none';\n",
              "\n",
              "      buttonEl.onclick = () => {\n",
              "        google.colab.notebook.generateWithVariable('y_test_pred_df');\n",
              "      }\n",
              "      })();\n",
              "    </script>\n",
              "  </div>\n",
              "\n",
              "    </div>\n",
              "  </div>\n"
            ],
            "application/vnd.google.colaboratory.intrinsic+json": {
              "type": "dataframe",
              "variable_name": "y_test_pred_df",
              "summary": "{\n  \"name\": \"y_test_pred_df\",\n  \"rows\": 95852,\n  \"fields\": [\n    {\n      \"column\": \"ID\",\n      \"properties\": {\n        \"dtype\": \"number\",\n        \"std\": 27670,\n        \"min\": 383611,\n        \"max\": 479462,\n        \"num_unique_values\": 95852,\n        \"samples\": [\n          416640,\n          432289,\n          424762\n        ],\n        \"semantic_type\": \"\",\n        \"description\": \"\"\n      }\n    },\n    {\n      \"column\": \"FREQ\",\n      \"properties\": {\n        \"dtype\": \"number\",\n        \"std\": 0.2740274069408383,\n        \"min\": -2.6316664734550943,\n        \"max\": 4.84588984792115,\n        \"num_unique_values\": 95651,\n        \"samples\": [\n          -0.1794423510256063,\n          -0.06241975285851007,\n          -0.1053542759000782\n        ],\n        \"semantic_type\": \"\",\n        \"description\": \"\"\n      }\n    },\n    {\n      \"column\": \"CM\",\n      \"properties\": {\n        \"dtype\": \"number\",\n        \"std\": 0.09097952440210795,\n        \"min\": -0.4779675048640512,\n        \"max\": 1.3990681681229507,\n        \"num_unique_values\": 95651,\n        \"samples\": [\n          -0.0659091620957186,\n          0.008002477334635313,\n          0.022747928272885562\n        ],\n        \"semantic_type\": \"\",\n        \"description\": \"\"\n      }\n    },\n    {\n      \"column\": \"ANNEE_ASSURANCE\",\n      \"properties\": {\n        \"dtype\": \"number\",\n        \"std\": 0.35311709261138274,\n        \"min\": 0.0027322404,\n        \"max\": 3.0,\n        \"num_unique_values\": 976,\n        \"samples\": [\n          0.9534246575,\n          0.1120218579,\n          0.8876712329\n        ],\n        \"semantic_type\": \"\",\n        \"description\": \"\"\n      }\n    },\n    {\n      \"column\": \"CHARGE\",\n      \"properties\": {\n        \"dtype\": \"number\",\n        \"std\": 62.96000627078404,\n        \"min\": -1584.3704222702077,\n        \"max\": 4249.854125758338,\n        \"num_unique_values\": 95653,\n        \"samples\": [\n          13.376141105193799,\n          -2.741335094876744,\n          20.330444305071957\n        ],\n        \"semantic_type\": \"\",\n        \"description\": \"\"\n      }\n    }\n  ]\n}"
            }
          },
          "metadata": {},
          "execution_count": 41
        }
      ]
    },
    {
      "cell_type": "code",
      "source": [
        "# save data\n",
        "y_test_pred_df.to_csv('test_output.csv', index=False)"
      ],
      "metadata": {
        "id": "igOpwt6K5HXx"
      },
      "execution_count": null,
      "outputs": []
    },
    {
      "cell_type": "code",
      "source": [
        "df2 = pd.read_csv('test_output (2).csv')"
      ],
      "metadata": {
        "id": "5WCPR1-EdaXd"
      },
      "execution_count": null,
      "outputs": []
    },
    {
      "cell_type": "markdown",
      "source": [
        "# Neural Networks\n",
        "\n",
        "Using Poisson and Gamma Distributions"
      ],
      "metadata": {
        "id": "QGZlaKDtNUvX"
      }
    },
    {
      "cell_type": "code",
      "source": [
        "from tensorflow.keras.models import Sequential\n",
        "from tensorflow.keras.layers import Dense, Dropout\n",
        "\n",
        "n_features = X_train_tensor.shape[1]\n",
        "\n",
        "freq_model = Sequential([\n",
        "    Dense(64, activation='relu', input_shape=(n_features,)),\n",
        "    Dropout(0.3),\n",
        "    Dense(32, activation='relu'),\n",
        "    Dropout(0.3),\n",
        "    Dense(16, activation='relu'),\n",
        "    Dense(1, activation='exponential')\n",
        "])\n",
        "\n",
        "freq_model.compile(optimizer='adam', loss='poisson')"
      ],
      "metadata": {
        "id": "DhxUbHtwNYC0"
      },
      "execution_count": null,
      "outputs": []
    },
    {
      "cell_type": "code",
      "source": [
        "import tensorflow as tf\n",
        "\n",
        "def gamma_loss(y_true, my_dist):\n",
        "    print(y_true, my_dist)\n",
        "    dist_mean = my_dist.mean()\n",
        "    dist_stddev = my_dist.stddev()\n",
        "    alpha = (dist_mean / dist_stddev)**2\n",
        "    beta = dist_mean / dist_stddev**2\n",
        "    gamma_distr = tf.distributions.Gamma(concentration=alpha, rate=beta)\n",
        "    return -tf.reduce_mean(gamma_distr.log_prob(y_true))\n",
        "\n",
        "avg_cost_model = Sequential([\n",
        "    Dense(64, activation='relu', input_shape=(n_features,)),\n",
        "    Dropout(0.3),\n",
        "    Dense(32, activation='relu'),\n",
        "    Dropout(0.3),\n",
        "    Dense(16, activation='relu'),\n",
        "    Dense(1, activation='exponential')\n",
        "])\n",
        "\n",
        "avg_cost_model.compile(optimizer='adam', loss=gamma_loss)"
      ],
      "metadata": {
        "id": "Asw2WLq_OPhT"
      },
      "execution_count": null,
      "outputs": []
    },
    {
      "cell_type": "code",
      "source": [
        "from sklearn.metrics import mean_squared_error\n",
        "import numpy as np\n",
        "import random\n",
        "\n",
        "# Assuming X_train_kf is a list of indices\n",
        "indices = list(range(len([X_train_tensor])))\n",
        "\n",
        "# Calculate the split point\n",
        "split_point = int(0.8 * len(indices))\n",
        "\n",
        "# Shuffle the indices randomly\n",
        "random.shuffle(indices)\n",
        "\n",
        "# Split the indices into 80% and 20%\n",
        "train_index = indices[:split_point]\n",
        "val_index = indices[split_point:]\n",
        "\n",
        "print(\"Number of training samples:\", len(train_index))\n",
        "print(\"Number of validation samples:\", len(val_index))\n",
        "\n",
        "X_train_kf, X_val_kf = X_train_tensor[train_index], X_train_tensor[val_index]\n",
        "y_freq_train_kf, y_freq_val_kf = y_train_tensor[train_index,0], y_train_tensor[val_index,0]\n",
        "y_cost_train_kf, y_cost_val_kf = y_train_tensor[train_index,0], y_train_tensor[val_index,0]\n",
        "\n",
        "freq_model.fit(X_train_kf.cpu(), y_freq_train_kf.cpu(), validation_data=(X_val_kf.cpu(), y_freq_val_kf.cpu()), epochs=40, batch_size=32)\n",
        "freq_pred = freq_model.predict(X_val_kf.cpu())\n",
        "\n",
        "avg_cost_model.fit(X_train_kf.cpu(), y_cost_train_kf.cpu(), validation_data=(X_val_kf.cpu(), y_cost_val_kf.cpu()), epochs=40, batch_size=32)\n",
        "cost_pred = avg_cost_model.predict(X_val_kf.cpu())\n",
        "\n",
        "annee_val_kf = y_train_tensor[val_index,2] # ANNEE_ASSURANCE\n",
        "charge_pred = freq_pred * cost_pred * annee_val_kf\n",
        "\n",
        "y_charge_val = y_train_tensor[val_index,3]\n",
        "\n",
        "rmse = np.sqrt(mean_squared_error(y_charge_val, charge_pred))\n",
        "print(f\"Fold RMSE: {rmse}\")"
      ],
      "metadata": {
        "id": "7j1ZZI_MOeTp"
      },
      "execution_count": null,
      "outputs": []
    },
    {
      "cell_type": "code",
      "source": [
        "print(f\"Freq val pred sum: {freq_pred.sum()}\")"
      ],
      "metadata": {
        "id": "WdeOaG3Lc9pm"
      },
      "execution_count": null,
      "outputs": []
    },
    {
      "cell_type": "markdown",
      "source": [
        "# Entraînement des modèles originaux (RF + GB)"
      ],
      "metadata": {
        "id": "MmrNPkpxtaLQ"
      }
    },
    {
      "cell_type": "code",
      "source": [
        "# Entraîner les modèles\n",
        "print(\"Entraînement des modèles\")\n",
        "\n",
        "# Modèle pour prédire 'FREQ'\n",
        "rf_freq = RandomForestRegressor(random_state=42, max_depth=10, n_estimators=100, verbose=10)\n",
        "rf_freq.fit(X_train_tensor, y_train_tensor[:,0])\n",
        "print(\"Modèle pour 'FREQ' entraîné avec succès.\")\n"
      ],
      "metadata": {
        "id": "OgGeWG4Lj0c0"
      },
      "execution_count": null,
      "outputs": []
    },
    {
      "cell_type": "code",
      "source": [
        "# Prédire 'FREQ' sur l'ensemble d'entraînement\n",
        "y_train_pred_freq = rf_freq.predict(X_train_tensor)"
      ],
      "metadata": {
        "id": "rf-xsWsAkFpQ"
      },
      "execution_count": null,
      "outputs": []
    },
    {
      "cell_type": "code",
      "source": [
        "# Modèle pour prédire 'CM'\n",
        "gb_cm = GradientBoostingRegressor(random_state=42, verbose=10)\n",
        "gb_cm.fit(X_train_tensor, y_train_tensor[:,1])\n",
        "print(\"Modèle pour 'CM' entraîné avec succès.\")"
      ],
      "metadata": {
        "id": "eX1Fn-q3kzw6"
      },
      "execution_count": null,
      "outputs": []
    },
    {
      "cell_type": "markdown",
      "source": [
        "## Predict and calculate errors on the train set"
      ],
      "metadata": {
        "id": "od4h5SzFpiHC"
      }
    },
    {
      "cell_type": "code",
      "source": [
        "# Prédire 'CM' sur l'ensemble d'entraînement\n",
        "y_train_pred_cm = gb_cm.predict(X_train_tensor)"
      ],
      "metadata": {
        "id": "6ZaAICRGk54t"
      },
      "execution_count": null,
      "outputs": []
    },
    {
      "cell_type": "code",
      "source": [
        "y_train_pred_rescaled = y_train_pred_freq * y_train_std['FREQ'] + y_train_mean['FREQ'] # y_pred * (original_max - original_min) + original_min\n",
        "print(y_train_pred_rescaled)"
      ],
      "metadata": {
        "id": "EQAmk7k8lfPd"
      },
      "execution_count": null,
      "outputs": []
    },
    {
      "cell_type": "code",
      "source": [
        "# Calculer le RMSE sur l'ensemble d'entraînement\n",
        "rmse = np.sqrt(mean_squared_error(y_train['FREQ'].values[:nbr_train], y_train_pred_rescaled))\n",
        "# rmse = np.sqrt(mean_squared_error(y_train['FREQ'].values[:nbr_train], y_train_pred_freq))\n",
        "print(f\"RMSE sur l'ensemble d'entraînement pour la 'FREQ' : {rmse:.2f}\")"
      ],
      "metadata": {
        "id": "D8eMXQcamtl1"
      },
      "execution_count": null,
      "outputs": []
    },
    {
      "cell_type": "code",
      "source": [
        "y_train_pred_rescaled_cm = y_train_pred_cm * y_train_std['CM'] + y_train_mean['CM']\n",
        "print(y_train_pred_rescaled_cm)"
      ],
      "metadata": {
        "id": "75-wZWeQnAmw"
      },
      "execution_count": null,
      "outputs": []
    },
    {
      "cell_type": "code",
      "source": [
        "# Calculer le RMSE sur l'ensemble d'entraînement\n",
        "rmse = np.sqrt(mean_squared_error(y_train['CM'].values[:nbr_train], y_train_pred_rescaled_cm))\n",
        "# rmse = np.sqrt(mean_squared_error(y_train['CM'].values[:nbr_train], y_train_pred_cm))\n",
        "print(f\"RMSE sur l'ensemble d'entraînement pour le 'CM' : {rmse:.2f}\")"
      ],
      "metadata": {
        "id": "8nQnmfAjnmpA"
      },
      "execution_count": null,
      "outputs": []
    },
    {
      "cell_type": "code",
      "source": [
        "# Calculer la prédiction combinée pour 'CHARGE'\n",
        "y_train_pred = y_train_pred_rescaled * y_train_pred_rescaled_cm * y_train_enc['ANNEE_ASSURANCE'].values[:nbr_train]\n",
        "# y_train_pred = y_train_pred_freq * y_train_pred_cm * y_train_enc['ANNEE_ASSURANCE'].values[:nbr_train]\n",
        "# Calculer le RMSE sur l'ensemble d'entraînement\n",
        "rmse = np.sqrt(mean_squared_error(y_train_enc['CHARGE'].values[:nbr_train], y_train_pred))\n",
        "print(f\"RMSE total sur l'ensemble d'entraînement : {rmse:.2f}\")"
      ],
      "metadata": {
        "id": "JcY1xXQMntHC"
      },
      "execution_count": null,
      "outputs": []
    },
    {
      "cell_type": "markdown",
      "source": [
        "## Predict and calculate errors on the val set"
      ],
      "metadata": {
        "id": "WjjYskRKpoaE"
      }
    },
    {
      "cell_type": "code",
      "source": [
        "if not train_with_all_data:\n",
        "    # Prédire 'FREQ' sur l'ensemble de validation\n",
        "    y_val_pred_freq = rf_freq.predict(X_val_tensor)\n",
        "\n",
        "    # Prédire 'CM' sur l'ensemble de validation\n",
        "    y_val_pred_cm = gb_cm.predict(X_val_tensor)\n",
        "\n",
        "    y_val_pred_rescaled = y_val_pred_freq * y_train_std['FREQ'] + y_train_mean['FREQ']\n",
        "    y_val_pred_rescaled_cm = y_val_pred_cm * y_train_std['CM'] + y_train_mean['CM']\n",
        "\n",
        "    # Calculer le RMSE sur l'ensemble de validation\n",
        "    rmse = np.sqrt(mean_squared_error(y_train['FREQ'].values[nbr_train:], y_val_pred_rescaled))\n",
        "    print(f\"RMSE sur l'ensemble de validation pour la 'FREQ' : {rmse:.2f}\")\n",
        "\n",
        "    rmse = np.sqrt(mean_squared_error(y_train['CM'].values[nbr_train:], y_val_pred_rescaled_cm))\n",
        "    print(f\"RMSE sur l'ensemble de validation pour le 'CM' : {rmse:.2f}\")\n",
        "\n",
        "    # Calculer la prédiction combinée pour 'CHARGE'\n",
        "    y_val_pred = y_val_pred_rescaled * y_val_pred_rescaled_cm * y_train_enc['ANNEE_ASSURANCE'].values[nbr_train:]\n",
        "    # Calculer le RMSE sur l'ensemble de validation\n",
        "    rmse = np.sqrt(mean_squared_error(y_train_enc['CHARGE'].values[nbr_train:], y_val_pred))\n",
        "    print(f\"RMSE total sur l'ensemble de validation : {rmse:.2f}\")"
      ],
      "metadata": {
        "id": "ut9sX1v52laV"
      },
      "execution_count": null,
      "outputs": []
    },
    {
      "cell_type": "code",
      "source": [
        "save_models = False\n",
        "\n",
        "if save_models:\n",
        "\n",
        "    import pickle\n",
        "\n",
        "    with open('rf_freq_max_depth_10_n_estimators_100_mark.pickle', 'wb') as file:\n",
        "        pickle.dump(rf_freq, file)\n",
        "\n",
        "    with open('gb_cm_100_mark.pickle', 'wb') as file:\n",
        "        pickle.dump(gb_cm, file)"
      ],
      "metadata": {
        "id": "3HkvlgTf5cq3"
      },
      "execution_count": null,
      "outputs": []
    },
    {
      "cell_type": "markdown",
      "source": [
        "## Test set"
      ],
      "metadata": {
        "id": "IS_QtYTa658q"
      }
    },
    {
      "cell_type": "code",
      "source": [
        "y_test_pred_freq = rf_freq.predict(X_test_tensor)"
      ],
      "metadata": {
        "id": "AQt29gZO64df"
      },
      "execution_count": null,
      "outputs": []
    },
    {
      "cell_type": "code",
      "source": [
        "# Prédire 'FREQ' sur l'ensemble de test\n",
        "y_test_pred_freq = rf_freq.predict(X_test_tensor)\n",
        "y_test_pred_rescaled = y_test_pred_freq * y_train_std['FREQ'] + y_train_mean['FREQ'] # y_pred * (original_max - original_min) + original_min\n",
        "\n",
        "# Prédire 'CM' sur l'ensemble de test\n",
        "y_test_pred_cm = gb_cm.predict(X_test_tensor)\n",
        "y_test_pred_rescaled_cm = y_test_pred_cm * y_train_std['CM'] + y_train_mean['CM']\n",
        "\n",
        "# Prédire assurance sur l'ensemble de test\n",
        "y_test_pred = y_test_pred_rescaled * y_test_pred_rescaled_cm * X_test['ANNEE_ASSURANCE'].values"
      ],
      "metadata": {
        "id": "thBbXyIK-oXm"
      },
      "execution_count": null,
      "outputs": []
    },
    {
      "cell_type": "code",
      "source": [
        "y_test_pred_df = pd.DataFrame(data=np.column_stack([y_test_pred_freq, y_test_pred_cm, X_test['ANNEE_ASSURANCE'].values, y_test_pred]),\n",
        "                              columns=['FREQ', 'CM', 'ANNEE_ASSURANCE', 'CHARGE'])\n",
        "y_test_pred_df['ID'] = X_test['ID'].tolist() # index pred with X_test index values\n",
        "y_test_pred_df = y_test_pred_df[['ID', 'FREQ', 'CM', 'ANNEE_ASSURANCE', 'CHARGE']]\n",
        "y_test_pred_df"
      ],
      "metadata": {
        "id": "2Y9tn8mWOYJJ"
      },
      "execution_count": null,
      "outputs": []
    },
    {
      "cell_type": "code",
      "source": [
        "# save data\n",
        "y_test_pred_df.to_csv('test_output.csv', index=False)"
      ],
      "metadata": {
        "id": "cxTJJ1SgO50S"
      },
      "execution_count": null,
      "outputs": []
    },
    {
      "cell_type": "markdown",
      "source": [
        "# Feature Importance"
      ],
      "metadata": {
        "id": "Wn4dAM0trhiV"
      }
    },
    {
      "cell_type": "code",
      "source": [
        "import pickle\n",
        "\n",
        "with open('rf_freq_max_depth_10_n_estimators_100_mark.pickle', 'rb') as file:\n",
        "    rf_freq = pickle.load(file)\n",
        "\n",
        "with open('gb_cm_100_mark.pickle', 'rb') as file:\n",
        "    gb_cm = pickle.load(file)"
      ],
      "metadata": {
        "id": "ErkiJec_2OnI"
      },
      "execution_count": null,
      "outputs": []
    },
    {
      "cell_type": "code",
      "source": [
        "features = list(X_train_enc)\n",
        "feature_importances = rf_freq.feature_importances_\n",
        "importances = pd.DataFrame(index=features)\n",
        "importances['importance'] = feature_importances\n",
        "importances['rank'] = importances['importance'].rank(ascending=False).values\n",
        "importances.sort_values('rank', ascending=False).plot(y='importance', kind='bar', figsize=(50, 6))\n",
        "plt.rcParams.update({'font.size': 4})\n",
        "plt.tight_layout()\n",
        "plt.savefig('rf_feature_importance.pdf')\n",
        "plt.show()"
      ],
      "metadata": {
        "id": "1ZY4vh-gNBZi"
      },
      "execution_count": null,
      "outputs": []
    },
    {
      "cell_type": "code",
      "source": [
        "!pip install shap --quiet"
      ],
      "metadata": {
        "id": "5w2EAzd22YJg"
      },
      "execution_count": null,
      "outputs": []
    },
    {
      "cell_type": "code",
      "source": [
        "import shap"
      ],
      "metadata": {
        "id": "dPWqJIzE2pKp"
      },
      "execution_count": null,
      "outputs": []
    },
    {
      "cell_type": "code",
      "source": [
        "explainer = shap.TreeExplainer(rf_freq, X_train_tensor.numpy())\n",
        "shap_values = explainer.shap_values(X_test_tensor.numpy(), check_additivity=False)\n",
        "shap.summary_plot(shap_values, X_test_tensor.numpy(), show=False)\n",
        "\n",
        "plt.title('SHAP Summary Plot (Random Forest)')\n",
        "plt.show()"
      ],
      "metadata": {
        "id": "h0r7-Nr6rf9V"
      },
      "execution_count": null,
      "outputs": []
    },
    {
      "cell_type": "code",
      "source": [
        "explainer_gb = shap.TreeExplainer(gb_cm, X_train_tensor.numpy())\n",
        "shap_values_gb = explainer.shap_values(X_test_tensor.numpy(), check_additivity=False)\n",
        "shap.summary_plot(shap_values_gb, X_test_tensor.numpy(), show=False)\n",
        "\n",
        "plt.title('SHAP Summary Plot (XGBoost)')\n",
        "plt.show()"
      ],
      "metadata": {
        "id": "BmPaTQ0AKyAs"
      },
      "execution_count": null,
      "outputs": []
    },
    {
      "cell_type": "code",
      "source": [],
      "metadata": {
        "id": "ZxdH5N9r01r0"
      },
      "execution_count": null,
      "outputs": []
    },
    {
      "cell_type": "markdown",
      "source": [
        "# Ignore the sections below"
      ],
      "metadata": {
        "id": "hCUjej4TrNow"
      }
    },
    {
      "cell_type": "markdown",
      "source": [
        "## Figures without Feature Normalization and my encoding and using first 50000 samples"
      ],
      "metadata": {
        "id": "Zi-vMBcCN_U9"
      }
    },
    {
      "cell_type": "code",
      "source": [
        "#@title FREQ\n",
        "\n",
        "import seaborn as sns\n",
        "plt.figure(figsize=(10, 6))\n",
        "sns.set_style(\"whitegrid\")\n",
        "\n",
        "# Create the KDE plots\n",
        "sns.kdeplot(y_train['FREQ'].values[:nbr_train], fill=True, label='True')\n",
        "sns.kdeplot(y_train_pred_freq, fill=True, label='Pred')\n",
        "\n",
        "# Customize the plot\n",
        "plt.xlabel('Values')\n",
        "plt.ylabel('Density')\n",
        "plt.title('Distribution of FREQ')\n",
        "plt.legend()\n",
        "\n",
        "plt.xlim(-0.5, 1.5)\n",
        "# plt.ylim(0, 0.01)\n",
        "\n",
        "# Display the plot\n",
        "plt.show()"
      ],
      "metadata": {
        "cellView": "form",
        "id": "xHKUxysiODIH"
      },
      "execution_count": null,
      "outputs": []
    },
    {
      "cell_type": "code",
      "source": [
        "#@title CM\n",
        "import seaborn as sns\n",
        "plt.figure(figsize=(10, 6))\n",
        "sns.set_style(\"whitegrid\")\n",
        "\n",
        "# Create the KDE plots\n",
        "sns.kdeplot(y_train_enc['CM'].values[:nbr_train], fill=True, label='True')\n",
        "sns.kdeplot(y_train_pred_cm, fill=True, label='Pred')\n",
        "\n",
        "# Customize the plot\n",
        "plt.xlabel('Values')\n",
        "plt.ylabel('Density')\n",
        "plt.title('Distribution of CM')\n",
        "plt.legend()\n",
        "\n",
        "plt.xlim(-2, 5)\n",
        "# plt.ylim(0, 0.01)\n",
        "\n",
        "# Display the plot\n",
        "plt.show()"
      ],
      "metadata": {
        "id": "4RS-uwpXORKt",
        "cellView": "form"
      },
      "execution_count": null,
      "outputs": []
    },
    {
      "cell_type": "markdown",
      "source": [
        "## Figures without Feature Normalization and my encoding and using first 5000 samples"
      ],
      "metadata": {
        "id": "lLxrjYcL6knm"
      }
    },
    {
      "cell_type": "code",
      "source": [
        "#@title FREQ\n",
        "\n",
        "import seaborn as sns\n",
        "plt.figure(figsize=(10, 6))\n",
        "sns.set_style(\"whitegrid\")\n",
        "\n",
        "# Create the KDE plots\n",
        "sns.kdeplot(y_train_enc['FREQ'].values[:nbr_train], fill=True, label='True')\n",
        "sns.kdeplot(y_train_pred_freq, fill=True, label='Pred')\n",
        "\n",
        "# Customize the plot\n",
        "plt.xlabel('Values')\n",
        "plt.ylabel('Density')\n",
        "plt.title('Distribution of FREQ')\n",
        "plt.legend()\n",
        "\n",
        "plt.xlim(-0.5, 1.5)\n",
        "# plt.ylim(0, 0.01)\n",
        "\n",
        "# Display the plot\n",
        "plt.show()"
      ],
      "metadata": {
        "cellView": "form",
        "id": "saiizd8s6opy"
      },
      "execution_count": null,
      "outputs": []
    },
    {
      "cell_type": "code",
      "source": [
        "#@title CM\n",
        "import seaborn as sns\n",
        "plt.figure(figsize=(10, 6))\n",
        "sns.set_style(\"whitegrid\")\n",
        "\n",
        "# Create the KDE plots\n",
        "sns.kdeplot(y_train_enc['CM'].values[:nbr_train], fill=True, label='True')\n",
        "sns.kdeplot(y_train_pred_cm, fill=True, label='Pred')\n",
        "\n",
        "# Customize the plot\n",
        "plt.xlabel('Values')\n",
        "plt.ylabel('Density')\n",
        "plt.title('Distribution of CM')\n",
        "plt.legend()\n",
        "\n",
        "plt.xlim(-5000, 10000)\n",
        "# plt.ylim(0, 0.01)\n",
        "\n",
        "# Display the plot\n",
        "plt.show()"
      ],
      "metadata": {
        "cellView": "form",
        "id": "4IVSOJpi6xq8"
      },
      "execution_count": null,
      "outputs": []
    },
    {
      "cell_type": "markdown",
      "source": [
        "## Figures without Feature Normalization and Mark's encoding and using first 5000 samples"
      ],
      "metadata": {
        "id": "2X5i_6a02T1n"
      }
    },
    {
      "cell_type": "code",
      "source": [
        "#@title FREQ\n",
        "\n",
        "import seaborn as sns\n",
        "plt.figure(figsize=(10, 6))\n",
        "sns.set_style(\"whitegrid\")\n",
        "\n",
        "# Create the KDE plots\n",
        "sns.kdeplot(y_train_enc['FREQ'].values[:nbr_train], fill=True, label='True')\n",
        "sns.kdeplot(y_train_pred_freq, fill=True, label='Pred')\n",
        "\n",
        "# Customize the plot\n",
        "plt.xlabel('Values')\n",
        "plt.ylabel('Density')\n",
        "plt.title('Distribution of FREQ')\n",
        "plt.legend()\n",
        "\n",
        "plt.xlim(-0.5, 1.5)\n",
        "# plt.ylim(0, 0.01)\n",
        "\n",
        "# Display the plot\n",
        "plt.show()"
      ],
      "metadata": {
        "cellView": "form",
        "id": "L3M6-ZAi2adA"
      },
      "execution_count": null,
      "outputs": []
    },
    {
      "cell_type": "code",
      "source": [
        "#@title CM\n",
        "import seaborn as sns\n",
        "plt.figure(figsize=(10, 6))\n",
        "sns.set_style(\"whitegrid\")\n",
        "\n",
        "# Create the KDE plots\n",
        "sns.kdeplot(y_train_enc['CM'].values[:nbr_train], fill=True, label='True')\n",
        "sns.kdeplot(y_train_pred_cm, fill=True, label='Pred')\n",
        "\n",
        "# Customize the plot\n",
        "plt.xlabel('Values')\n",
        "plt.ylabel('Density')\n",
        "plt.title('Distribution of CM')\n",
        "plt.legend()\n",
        "\n",
        "plt.xlim(-5000, 10000)\n",
        "# plt.ylim(0, 0.01)\n",
        "\n",
        "# Display the plot\n",
        "plt.show()"
      ],
      "metadata": {
        "cellView": "form",
        "id": "hozulCtY2gQM"
      },
      "execution_count": null,
      "outputs": []
    },
    {
      "cell_type": "markdown",
      "source": [
        "## Figures with Feature Normalization and Mark's encoding and using first 5000 samples"
      ],
      "metadata": {
        "id": "vRr44IFBzd4J"
      }
    },
    {
      "cell_type": "code",
      "source": [
        "#@title FREQ\n",
        "\n",
        "import seaborn as sns\n",
        "plt.figure(figsize=(10, 6))\n",
        "sns.set_style(\"whitegrid\")\n",
        "\n",
        "# Create the KDE plots\n",
        "sns.kdeplot(y_train_enc['FREQ'].values[:nbr_train], fill=True, label='True')\n",
        "sns.kdeplot(y_train_pred_rescaled, fill=True, label='Pred')\n",
        "\n",
        "# Customize the plot\n",
        "plt.xlabel('Values')\n",
        "plt.ylabel('Density')\n",
        "plt.title('Distribution of FREQ')\n",
        "plt.legend()\n",
        "\n",
        "plt.xlim(-0.5, 1.5)\n",
        "# plt.ylim(0, 0.01)\n",
        "\n",
        "# Display the plot\n",
        "plt.show()"
      ],
      "metadata": {
        "cellView": "form",
        "id": "xrRFqYgoyh4d"
      },
      "execution_count": null,
      "outputs": []
    },
    {
      "cell_type": "code",
      "source": [
        "#@title CM\n",
        "import seaborn as sns\n",
        "plt.figure(figsize=(10, 6))\n",
        "sns.set_style(\"whitegrid\")\n",
        "\n",
        "# Create the KDE plots\n",
        "sns.kdeplot(y_train_enc['CM'].values[:nbr_train], fill=True, label='True')\n",
        "sns.kdeplot(y_train_pred_rescaled_cm, fill=True, label='Pred')\n",
        "\n",
        "# Customize the plot\n",
        "plt.xlabel('Values')\n",
        "plt.ylabel('Density')\n",
        "plt.title('Distribution of CM')\n",
        "plt.legend()\n",
        "\n",
        "plt.xlim(-5, 10)\n",
        "# plt.ylim(0, 0.01)\n",
        "\n",
        "# Display the plot\n",
        "plt.show()"
      ],
      "metadata": {
        "cellView": "form",
        "id": "GezLOo7sytht"
      },
      "execution_count": null,
      "outputs": []
    },
    {
      "cell_type": "markdown",
      "source": [
        "## Figures without Feature Normalization and original encoding and using first 5000 samples"
      ],
      "metadata": {
        "id": "gcLkBOZpznN5"
      }
    },
    {
      "cell_type": "code",
      "source": [
        "#@title FREQ\n",
        "\n",
        "import seaborn as sns\n",
        "plt.figure(figsize=(10, 6))\n",
        "sns.set_style(\"whitegrid\")\n",
        "\n",
        "# Create the KDE plots\n",
        "sns.kdeplot(y_train_enc['FREQ'].values[:nbr_train], fill=True, label='True')\n",
        "sns.kdeplot(y_train_pred_freq, fill=True, label='Pred')\n",
        "\n",
        "# Customize the plot\n",
        "plt.xlabel('Values')\n",
        "plt.ylabel('Density')\n",
        "plt.title('Distribution of FREQ')\n",
        "plt.legend()\n",
        "\n",
        "plt.xlim(-0.5, 1.5)\n",
        "# plt.ylim(0, 0.01)\n",
        "\n",
        "# Display the plot\n",
        "plt.show()"
      ],
      "metadata": {
        "id": "W1ufWj5ir5XC",
        "cellView": "form"
      },
      "execution_count": null,
      "outputs": []
    },
    {
      "cell_type": "code",
      "source": [
        "#@title CM\n",
        "\n",
        "import seaborn as sns\n",
        "plt.figure(figsize=(10, 6))\n",
        "sns.set_style(\"whitegrid\")\n",
        "\n",
        "# Create the KDE plots\n",
        "sns.kdeplot(y_train_enc['CM'].values[:nbr_train], fill=True, label='True')\n",
        "sns.kdeplot(y_train_pred_cm, fill=True, label='Pred')\n",
        "\n",
        "# Customize the plot\n",
        "plt.xlabel('Values')\n",
        "plt.ylabel('Density')\n",
        "plt.title('Distribution of CM')\n",
        "plt.legend()\n",
        "\n",
        "plt.xlim(-5000, 10000)\n",
        "# plt.ylim(0, 0.01)\n",
        "\n",
        "# Display the plot\n",
        "plt.show()"
      ],
      "metadata": {
        "id": "uz_NjFy7sNdn",
        "cellView": "form"
      },
      "execution_count": null,
      "outputs": []
    },
    {
      "cell_type": "markdown",
      "source": [
        "## Figures with Feature Normalization by Mean and Std and using first 5000 samples"
      ],
      "metadata": {
        "id": "ERvcQI_brv5m"
      }
    },
    {
      "cell_type": "code",
      "source": [
        "#@title FREQ\n",
        "\n",
        "import seaborn as sns\n",
        "plt.figure(figsize=(10, 6))\n",
        "sns.set_style(\"whitegrid\")\n",
        "\n",
        "# Create the KDE plots\n",
        "sns.kdeplot(y_train_enc['FREQ'].values[:nbr_train], fill=True, label='True')\n",
        "sns.kdeplot(y_train_pred_rescaled, fill=True, label='Pred')\n",
        "\n",
        "# Customize the plot\n",
        "plt.xlabel('Values')\n",
        "plt.ylabel('Density')\n",
        "plt.title('Distribution of FREQ')\n",
        "plt.legend()\n",
        "\n",
        "plt.xlim(-50, 200)\n",
        "plt.ylim(0, 0.01)\n",
        "\n",
        "# Display the plot\n",
        "plt.show()"
      ],
      "metadata": {
        "id": "h-fWHl5Tn9yi",
        "cellView": "form"
      },
      "execution_count": null,
      "outputs": []
    },
    {
      "cell_type": "code",
      "source": [
        "#@title CM\n",
        "\n",
        "import seaborn as sns\n",
        "plt.figure(figsize=(10, 6))\n",
        "sns.set_style(\"whitegrid\")\n",
        "\n",
        "# Create the KDE plots\n",
        "sns.kdeplot(y_train_enc['CM'].values[:nbr_train], fill=True, label='True')\n",
        "sns.kdeplot(y_train_pred_rescaled_cm, fill=True, label='Pred')\n",
        "\n",
        "# Customize the plot\n",
        "plt.xlabel('Values')\n",
        "plt.ylabel('Density')\n",
        "plt.title('Distribution of CM')\n",
        "plt.legend()\n",
        "\n",
        "plt.xlim(-100000, 200000)\n",
        "# plt.ylim(0, 0.01)\n",
        "\n",
        "# Display the plot\n",
        "plt.show()"
      ],
      "metadata": {
        "id": "XludnT_IoY2T",
        "cellView": "form"
      },
      "execution_count": null,
      "outputs": []
    }
  ]
}
